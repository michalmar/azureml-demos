{
 "cells": [
  {
   "cell_type": "markdown",
   "metadata": {},
   "source": [
    "# AML Workspace & Artifacts navigation"
   ]
  },
  {
   "cell_type": "markdown",
   "metadata": {},
   "source": [
    "## Init & Login"
   ]
  },
  {
   "cell_type": "code",
   "execution_count": 1,
   "metadata": {},
   "outputs": [
    {
     "name": "stdout",
     "output_type": "stream",
     "text": [
      "[INFO] SDK version: 1.17.0\n",
      "[SUCCESS] LOGGED IN:  @ mlops-demo @ mlops-rg @ westeurope @ 6ee947fa-0d77-4915-bf68-4a83a8bec2a4\n"
     ]
    }
   ],
   "source": [
    "## Check core SDK version number\n",
    "import azureml.core\n",
    "# import mlflow\n",
    "import os\n",
    "\n",
    "from azureml.core import (Datastore, Dataset, Environment, Experiment, ScriptRunConfig,\n",
    "                          Workspace)\n",
    "from azureml.core.authentication import InteractiveLoginAuthentication\n",
    "from IPython.display import display\n",
    "\n",
    "\n",
    "\n",
    "print(\"[INFO] SDK version:\", azureml.core.VERSION)\n",
    "\n",
    "## due to diferent tenant -> typically customer tenant\n",
    "# interactive_auth = InteractiveLoginAuthentication(tenant_id=\"72f988bf-86f1-41af-91ab-2d7cd011db47\")\n",
    "\n",
    "ws = Workspace.from_config()\n",
    "print(\"[SUCCESS] LOGGED IN: \",ws.name, ws.resource_group, ws.location, ws.subscription_id, sep=' @ ')"
   ]
  },
  {
   "cell_type": "markdown",
   "metadata": {},
   "source": [
    "## Experiments"
   ]
  },
  {
   "cell_type": "code",
   "execution_count": 2,
   "metadata": {},
   "outputs": [
    {
     "data": {
      "text/plain": [
       "{'mlopspython': Experiment(Name: mlopspython,\n",
       " Workspace: mlops-demo),\n",
       " 'automlstep-classification': Experiment(Name: automlstep-classification,\n",
       " Workspace: mlops-demo),\n",
       " 'train-on-amlcompute-automl': Experiment(Name: train-on-amlcompute-automl,\n",
       " Workspace: mlops-demo),\n",
       " 'covid-test': Experiment(Name: covid-test,\n",
       " Workspace: mlops-demo),\n",
       " 'cvd_od_yolo_mma': Experiment(Name: cvd_od_yolo_mma,\n",
       " Workspace: mlops-demo),\n",
       " 'car_price_prediction': Experiment(Name: car_price_prediction,\n",
       " Workspace: mlops-demo),\n",
       " 'MSIssues': Experiment(Name: MSIssues,\n",
       " Workspace: mlops-demo),\n",
       " 'NYCTaxi_Tutorial_Pipelines': Experiment(Name: NYCTaxi_Tutorial_Pipelines,\n",
       " Workspace: mlops-demo),\n",
       " 'diabetes-training-pipeline': Experiment(Name: diabetes-training-pipeline,\n",
       " Workspace: mlops-demo),\n",
       " 'batch_prediction_pipeline': Experiment(Name: batch_prediction_pipeline,\n",
       " Workspace: mlops-demo),\n",
       " 'experiment_with_mlflow_from_databricks': Experiment(Name: experiment_with_mlflow_from_databricks,\n",
       " Workspace: mlops-demo),\n",
       " 'dataset_profile': Experiment(Name: dataset_profile,\n",
       " Workspace: mlops-demo),\n",
       " 'mlops-deep-learning': Experiment(Name: mlops-deep-learning,\n",
       " Workspace: mlops-demo),\n",
       " 'deep-learning': Experiment(Name: deep-learning,\n",
       " Workspace: mlops-demo),\n",
       " 'Estimator_sample': Experiment(Name: Estimator_sample,\n",
       " Workspace: mlops-demo),\n",
       " 'batch-pipeline': Experiment(Name: batch-pipeline,\n",
       " Workspace: mlops-demo),\n",
       " 'NYCTaxi_Tutorial_Pipelines-simple': Experiment(Name: NYCTaxi_Tutorial_Pipelines-simple,\n",
       " Workspace: mlops-demo),\n",
       " 'local-debug': Experiment(Name: local-debug,\n",
       " Workspace: mlops-demo),\n",
       " 'HOL-train-in-notebook-lgbm': Experiment(Name: HOL-train-in-notebook-lgbm,\n",
       " Workspace: mlops-demo),\n",
       " 'HOL-train-on-compute-simple': Experiment(Name: HOL-train-on-compute-simple,\n",
       " Workspace: mlops-demo),\n",
       " 'xgboost-iris-example': Experiment(Name: xgboost-iris-example,\n",
       " Workspace: mlops-demo),\n",
       " 'mlflow-azureml': Experiment(Name: mlflow-azureml,\n",
       " Workspace: mlops-demo)}"
      ]
     },
     "execution_count": 2,
     "metadata": {},
     "output_type": "execute_result"
    }
   ],
   "source": [
    " ws.experiments"
   ]
  },
  {
   "cell_type": "code",
   "execution_count": 3,
   "metadata": {},
   "outputs": [
    {
     "data": {
      "text/plain": [
       "{'_workspace': Workspace.create(name='mlops-demo', subscription_id='6ee947fa-0d77-4915-bf68-4a83a8bec2a4', resource_group='mlops-rg'),\n",
       " '_name': 'HOL-train-on-compute-simple',\n",
       " '_workspace_client': <azureml._restclient.workspace_client.WorkspaceClient at 0x7fd85ed1ea20>,\n",
       " '_id': 'd99992f3-bd1d-45f4-9ec1-bbc493027300',\n",
       " '_archived_time': None,\n",
       " '_experiment_dto': <azureml._restclient.models.experiment_dto.ExperimentDto at 0x7fd85ed1e240>,\n",
       " '_tags': {},\n",
       " '_identity': 'Experiment#HOL-train-on-compute-simple',\n",
       " '_logger': <Logger azureml.Experiment#HOL-train-on-compute-simple (WARNING)>,\n",
       " '_portal_url': 'https://ml.azure.com',\n",
       " '_workspace_url': 'https://ml.azure.com?wsid=/subscriptions/6ee947fa-0d77-4915-bf68-4a83a8bec2a4/resourcegroups/mlops-rg/workspaces/mlops-demo',\n",
       " '_experiment_url': 'https://ml.azure.com/experiments/HOL-train-on-compute-simple?wsid=/subscriptions/6ee947fa-0d77-4915-bf68-4a83a8bec2a4/resourcegroups/mlops-rg/workspaces/mlops-demo'}"
      ]
     },
     "execution_count": 3,
     "metadata": {},
     "output_type": "execute_result"
    }
   ],
   "source": [
    "experiment = ws.experiments[\"HOL-train-on-compute-simple\"]\n",
    "experiment.__dict__"
   ]
  },
  {
   "cell_type": "code",
   "execution_count": 5,
   "metadata": {},
   "outputs": [
    {
     "name": "stdout",
     "output_type": "stream",
     "text": [
      "Run(Experiment: HOL-train-on-compute-simple,\n",
      "Id: HOL-train-on-compute-simple_1603961113_5e9ecdce,\n",
      "Type: azureml.scriptrun,\n",
      "Status: Completed)\n",
      "Run(Experiment: HOL-train-on-compute-simple,\n",
      "Id: HOL-train-on-compute-simple_1603915170_b67764a3,\n",
      "Type: azureml.scriptrun,\n",
      "Status: Completed)\n"
     ]
    }
   ],
   "source": [
    "for run in experiment.get_runs():\n",
    "    print(run)"
   ]
  },
  {
   "cell_type": "code",
   "execution_count": 7,
   "metadata": {},
   "outputs": [],
   "source": [
    "properties = run.get_properties()"
   ]
  },
  {
   "cell_type": "code",
   "execution_count": 18,
   "metadata": {},
   "outputs": [
    {
     "data": {
      "text/plain": [
       "{'_azureml.ComputeTargetType': 'amlcompute',\n",
       " 'ContentSnapshotId': '6032c74d-9ce1-445d-8681-d96056488900',\n",
       " 'azureml.git.repository_uri': 'git@github.com:michalmar/azure-labs.git',\n",
       " 'mlflow.source.git.repoURL': 'git@github.com:michalmar/azure-labs.git',\n",
       " 'azureml.git.branch': 'master',\n",
       " 'mlflow.source.git.branch': 'master',\n",
       " 'azureml.git.commit': '14b2066b1b1660a76afa7e03e1fcddc361a6b8d5',\n",
       " 'mlflow.source.git.commit': '14b2066b1b1660a76afa7e03e1fcddc361a6b8d5',\n",
       " 'azureml.git.dirty': 'False',\n",
       " 'ProcessInfoFile': 'azureml-logs/process_info.json',\n",
       " 'ProcessStatusFile': 'azureml-logs/process_status.json'}"
      ]
     },
     "execution_count": 18,
     "metadata": {},
     "output_type": "execute_result"
    }
   ],
   "source": [
    "properties"
   ]
  },
  {
   "cell_type": "code",
   "execution_count": 15,
   "metadata": {},
   "outputs": [
    {
     "data": {
      "text/html": [
       "<div>\n",
       "<style scoped>\n",
       "    .dataframe tbody tr th:only-of-type {\n",
       "        vertical-align: middle;\n",
       "    }\n",
       "\n",
       "    .dataframe tbody tr th {\n",
       "        vertical-align: top;\n",
       "    }\n",
       "\n",
       "    .dataframe thead th {\n",
       "        text-align: right;\n",
       "    }\n",
       "</style>\n",
       "<table border=\"1\" class=\"dataframe\">\n",
       "  <thead>\n",
       "    <tr style=\"text-align: right;\">\n",
       "      <th></th>\n",
       "      <th>1</th>\n",
       "      <th>2</th>\n",
       "    </tr>\n",
       "  </thead>\n",
       "  <tbody>\n",
       "    <tr>\n",
       "      <th>learning_rate</th>\n",
       "      <td>0.05000</td>\n",
       "      <td>0.05000</td>\n",
       "    </tr>\n",
       "    <tr>\n",
       "      <th>mse</th>\n",
       "      <td>27.32622</td>\n",
       "      <td>27.32622</td>\n",
       "    </tr>\n",
       "  </tbody>\n",
       "</table>\n",
       "</div>"
      ],
      "text/plain": [
       "                      1         2\n",
       "learning_rate   0.05000   0.05000\n",
       "mse            27.32622  27.32622"
      ]
     },
     "execution_count": 15,
     "metadata": {},
     "output_type": "execute_result"
    }
   ],
   "source": [
    "import pandas as pd\n",
    "\n",
    "# children = list(parent_run.get_children())\n",
    "metricslist = {}\n",
    "for run in experiment.get_runs():\n",
    "#     properties = run.get_properties()\n",
    "    metrics = {k: v for k, v in run.get_metrics().items() if isinstance(v, float)}\n",
    "#     metricslist[int(properties['iteration'])] = metrics\n",
    "    metricslist[run._run_number] = metrics\n",
    "\n",
    "rundata = pd.DataFrame(metricslist).sort_index(1)\n",
    "rundata"
   ]
  },
  {
   "cell_type": "markdown",
   "metadata": {},
   "source": [
    "## AutoML"
   ]
  },
  {
   "cell_type": "markdown",
   "metadata": {},
   "source": [
    "you can grab an existing AutoML parent run like the following by specifying the parent run ID:"
   ]
  },
  {
   "cell_type": "code",
   "execution_count": 6,
   "metadata": {},
   "outputs": [],
   "source": [
    "from azureml.train.automl.run import AutoMLRun\n",
    "parent_run = AutoMLRun(experiment, run_id = 'AutoML_581b9e5d-584d-419b-9d4f-3a9f3fda1bee')"
   ]
  },
  {
   "cell_type": "code",
   "execution_count": 7,
   "metadata": {},
   "outputs": [
    {
     "data": {
      "text/html": [
       "<table style=\"width:100%\"><tr><th>Experiment</th><th>Id</th><th>Type</th><th>Status</th><th>Details Page</th><th>Docs Page</th></tr><tr><td>train-on-amlcompute-automl</td><td>AutoML_581b9e5d-584d-419b-9d4f-3a9f3fda1bee</td><td>automl</td><td>Completed</td><td><a href=\"https://ml.azure.com/experiments/train-on-amlcompute-automl/runs/AutoML_581b9e5d-584d-419b-9d4f-3a9f3fda1bee?wsid=/subscriptions/6ee947fa-0d77-4915-bf68-4a83a8bec2a4/resourcegroups/mlops-rg/workspaces/mlops-demo\" target=\"_blank\" rel=\"noopener\">Link to Azure Machine Learning studio</a></td><td><a href=\"https://docs.microsoft.com/en-us/python/api/overview/azure/ml/intro?view=azure-ml-py\" target=\"_blank\" rel=\"noopener\">Link to Documentation</a></td></tr></table>"
      ],
      "text/plain": [
       "Run(Experiment: train-on-amlcompute-automl,\n",
       "Id: AutoML_581b9e5d-584d-419b-9d4f-3a9f3fda1bee,\n",
       "Type: automl,\n",
       "Status: Completed)"
      ]
     },
     "execution_count": 7,
     "metadata": {},
     "output_type": "execute_result"
    }
   ],
   "source": [
    "parent_run"
   ]
  },
  {
   "cell_type": "code",
   "execution_count": 8,
   "metadata": {},
   "outputs": [
    {
     "data": {
      "text/plain": [
       "{'_jasmine_client': <azureml._restclient.jasmine_client.JasmineClient at 0x7f5bdc1349e8>,\n",
       " '_experiment': Experiment(Name: train-on-amlcompute-automl,\n",
       " Workspace: mlops-demo),\n",
       " '_run_id': 'AutoML_581b9e5d-584d-419b-9d4f-3a9f3fda1bee',\n",
       " '_identity': 'AutoMLRun#AutoML_581b9e5d-584d-419b-9d4f-3a9f3fda1bee',\n",
       " '_logger': <Logger azureml.AutoMLRun#AutoML_581b9e5d-584d-419b-9d4f-3a9f3fda1bee (WARNING)>,\n",
       " '_portal_url': 'https://ml.azure.com',\n",
       " '_workspace_url': 'https://ml.azure.com?wsid=/subscriptions/6ee947fa-0d77-4915-bf68-4a83a8bec2a4/resourcegroups/mlops-rg/workspaces/mlops-demo',\n",
       " '_experiment_url': 'https://ml.azure.com/experiments/train-on-amlcompute-automl?wsid=/subscriptions/6ee947fa-0d77-4915-bf68-4a83a8bec2a4/resourcegroups/mlops-rg/workspaces/mlops-demo',\n",
       " '_run_details_url': 'https://ml.azure.com/experiments/train-on-amlcompute-automl/runs/AutoML_581b9e5d-584d-419b-9d4f-3a9f3fda1bee?wsid=/subscriptions/6ee947fa-0d77-4915-bf68-4a83a8bec2a4/resourcegroups/mlops-rg/workspaces/mlops-demo',\n",
       " '_client': <azureml._run_impl.run_history_facade.RunHistoryFacade at 0x7f5b625b7be0>,\n",
       " '_root_run_id': 'AutoML_581b9e5d-584d-419b-9d4f-3a9f3fda1bee',\n",
       " '_outputs': None,\n",
       " '_run_number': 89,\n",
       " '_run_source': 'automl',\n",
       " '_runtype': 'automl',\n",
       " '_run_name': 'AutoML_581b9e5d-584d-419b-9d4f-3a9f3fda1bee',\n",
       " '_context_manager': <azureml._run_impl.run_context_manager.RunContextManager at 0x7f5b62515e80>,\n",
       " '_input_datasets': None,\n",
       " 'model_id': None}"
      ]
     },
     "execution_count": 8,
     "metadata": {},
     "output_type": "execute_result"
    }
   ],
   "source": [
    "parent_run.__dict__"
   ]
  },
  {
   "cell_type": "markdown",
   "metadata": {},
   "source": [
    "In a similar way that you were getting a model’s name for a specific child run, you could also get all the metrics for all the child runs"
   ]
  },
  {
   "cell_type": "code",
   "execution_count": 9,
   "metadata": {},
   "outputs": [
    {
     "data": {
      "text/html": [
       "<div>\n",
       "<style scoped>\n",
       "    .dataframe tbody tr th:only-of-type {\n",
       "        vertical-align: middle;\n",
       "    }\n",
       "\n",
       "    .dataframe tbody tr th {\n",
       "        vertical-align: top;\n",
       "    }\n",
       "\n",
       "    .dataframe thead th {\n",
       "        text-align: right;\n",
       "    }\n",
       "</style>\n",
       "<table border=\"1\" class=\"dataframe\">\n",
       "  <thead>\n",
       "    <tr style=\"text-align: right;\">\n",
       "      <th></th>\n",
       "      <th>0</th>\n",
       "      <th>1</th>\n",
       "      <th>2</th>\n",
       "      <th>3</th>\n",
       "      <th>4</th>\n",
       "      <th>5</th>\n",
       "      <th>6</th>\n",
       "      <th>7</th>\n",
       "      <th>8</th>\n",
       "      <th>9</th>\n",
       "      <th>10</th>\n",
       "      <th>11</th>\n",
       "      <th>12</th>\n",
       "      <th>13</th>\n",
       "      <th>14</th>\n",
       "      <th>15</th>\n",
       "      <th>16</th>\n",
       "      <th>17</th>\n",
       "      <th>18</th>\n",
       "      <th>19</th>\n",
       "    </tr>\n",
       "  </thead>\n",
       "  <tbody>\n",
       "    <tr>\n",
       "      <th>explained_variance</th>\n",
       "      <td>0.86</td>\n",
       "      <td>0.85</td>\n",
       "      <td>0.85</td>\n",
       "      <td>0.84</td>\n",
       "      <td>0.84</td>\n",
       "      <td>0.83</td>\n",
       "      <td>0.84</td>\n",
       "      <td>0.78</td>\n",
       "      <td>0.75</td>\n",
       "      <td>0.85</td>\n",
       "      <td>0.02</td>\n",
       "      <td>0.80</td>\n",
       "      <td>0.79</td>\n",
       "      <td>0.70</td>\n",
       "      <td>0.85</td>\n",
       "      <td>0.83</td>\n",
       "      <td>0.42</td>\n",
       "      <td>0.71</td>\n",
       "      <td>0.86</td>\n",
       "      <td>0.86</td>\n",
       "    </tr>\n",
       "    <tr>\n",
       "      <th>mean_absolute_error</th>\n",
       "      <td>2.07</td>\n",
       "      <td>2.25</td>\n",
       "      <td>2.21</td>\n",
       "      <td>2.26</td>\n",
       "      <td>2.33</td>\n",
       "      <td>2.51</td>\n",
       "      <td>2.31</td>\n",
       "      <td>2.64</td>\n",
       "      <td>2.84</td>\n",
       "      <td>2.23</td>\n",
       "      <td>7.18</td>\n",
       "      <td>2.58</td>\n",
       "      <td>2.52</td>\n",
       "      <td>3.11</td>\n",
       "      <td>2.23</td>\n",
       "      <td>2.19</td>\n",
       "      <td>4.89</td>\n",
       "      <td>3.37</td>\n",
       "      <td>2.08</td>\n",
       "      <td>2.08</td>\n",
       "    </tr>\n",
       "    <tr>\n",
       "      <th>mean_absolute_percentage_error</th>\n",
       "      <td>19.59</td>\n",
       "      <td>21.19</td>\n",
       "      <td>20.67</td>\n",
       "      <td>21.27</td>\n",
       "      <td>22.24</td>\n",
       "      <td>24.21</td>\n",
       "      <td>21.94</td>\n",
       "      <td>24.92</td>\n",
       "      <td>26.83</td>\n",
       "      <td>20.92</td>\n",
       "      <td>61.67</td>\n",
       "      <td>23.95</td>\n",
       "      <td>21.74</td>\n",
       "      <td>26.50</td>\n",
       "      <td>20.92</td>\n",
       "      <td>20.12</td>\n",
       "      <td>42.24</td>\n",
       "      <td>31.10</td>\n",
       "      <td>19.69</td>\n",
       "      <td>19.87</td>\n",
       "    </tr>\n",
       "    <tr>\n",
       "      <th>median_absolute_error</th>\n",
       "      <td>1.24</td>\n",
       "      <td>1.50</td>\n",
       "      <td>1.45</td>\n",
       "      <td>1.51</td>\n",
       "      <td>1.63</td>\n",
       "      <td>1.86</td>\n",
       "      <td>1.59</td>\n",
       "      <td>1.73</td>\n",
       "      <td>1.96</td>\n",
       "      <td>1.47</td>\n",
       "      <td>5.84</td>\n",
       "      <td>1.62</td>\n",
       "      <td>1.47</td>\n",
       "      <td>1.64</td>\n",
       "      <td>1.47</td>\n",
       "      <td>1.22</td>\n",
       "      <td>3.15</td>\n",
       "      <td>2.41</td>\n",
       "      <td>1.27</td>\n",
       "      <td>1.28</td>\n",
       "    </tr>\n",
       "    <tr>\n",
       "      <th>normalized_mean_absolute_error</th>\n",
       "      <td>0.01</td>\n",
       "      <td>0.02</td>\n",
       "      <td>0.01</td>\n",
       "      <td>0.02</td>\n",
       "      <td>0.02</td>\n",
       "      <td>0.02</td>\n",
       "      <td>0.02</td>\n",
       "      <td>0.02</td>\n",
       "      <td>0.02</td>\n",
       "      <td>0.02</td>\n",
       "      <td>0.05</td>\n",
       "      <td>0.02</td>\n",
       "      <td>0.02</td>\n",
       "      <td>0.02</td>\n",
       "      <td>0.02</td>\n",
       "      <td>0.01</td>\n",
       "      <td>0.03</td>\n",
       "      <td>0.02</td>\n",
       "      <td>0.01</td>\n",
       "      <td>0.01</td>\n",
       "    </tr>\n",
       "    <tr>\n",
       "      <th>normalized_median_absolute_error</th>\n",
       "      <td>0.01</td>\n",
       "      <td>0.01</td>\n",
       "      <td>0.01</td>\n",
       "      <td>0.01</td>\n",
       "      <td>0.01</td>\n",
       "      <td>0.01</td>\n",
       "      <td>0.01</td>\n",
       "      <td>0.01</td>\n",
       "      <td>0.01</td>\n",
       "      <td>0.01</td>\n",
       "      <td>0.04</td>\n",
       "      <td>0.01</td>\n",
       "      <td>0.01</td>\n",
       "      <td>0.01</td>\n",
       "      <td>0.01</td>\n",
       "      <td>0.01</td>\n",
       "      <td>0.02</td>\n",
       "      <td>0.02</td>\n",
       "      <td>0.01</td>\n",
       "      <td>0.01</td>\n",
       "    </tr>\n",
       "    <tr>\n",
       "      <th>normalized_root_mean_squared_error</th>\n",
       "      <td>0.03</td>\n",
       "      <td>0.03</td>\n",
       "      <td>0.03</td>\n",
       "      <td>0.03</td>\n",
       "      <td>0.03</td>\n",
       "      <td>0.03</td>\n",
       "      <td>0.03</td>\n",
       "      <td>0.03</td>\n",
       "      <td>0.04</td>\n",
       "      <td>0.03</td>\n",
       "      <td>0.07</td>\n",
       "      <td>0.03</td>\n",
       "      <td>0.03</td>\n",
       "      <td>0.04</td>\n",
       "      <td>0.03</td>\n",
       "      <td>0.03</td>\n",
       "      <td>0.05</td>\n",
       "      <td>0.04</td>\n",
       "      <td>0.03</td>\n",
       "      <td>0.03</td>\n",
       "    </tr>\n",
       "    <tr>\n",
       "      <th>normalized_root_mean_squared_log_error</th>\n",
       "      <td>0.04</td>\n",
       "      <td>0.04</td>\n",
       "      <td>0.04</td>\n",
       "      <td>0.04</td>\n",
       "      <td>0.04</td>\n",
       "      <td>0.04</td>\n",
       "      <td>0.04</td>\n",
       "      <td>0.05</td>\n",
       "      <td>0.05</td>\n",
       "      <td>0.04</td>\n",
       "      <td>0.11</td>\n",
       "      <td>0.04</td>\n",
       "      <td>0.04</td>\n",
       "      <td>0.05</td>\n",
       "      <td>0.04</td>\n",
       "      <td>0.04</td>\n",
       "      <td>0.08</td>\n",
       "      <td>0.06</td>\n",
       "      <td>0.04</td>\n",
       "      <td>0.04</td>\n",
       "    </tr>\n",
       "    <tr>\n",
       "      <th>r2_score</th>\n",
       "      <td>0.86</td>\n",
       "      <td>0.85</td>\n",
       "      <td>0.85</td>\n",
       "      <td>0.84</td>\n",
       "      <td>0.84</td>\n",
       "      <td>0.83</td>\n",
       "      <td>0.84</td>\n",
       "      <td>0.78</td>\n",
       "      <td>0.75</td>\n",
       "      <td>0.85</td>\n",
       "      <td>0.02</td>\n",
       "      <td>0.80</td>\n",
       "      <td>0.79</td>\n",
       "      <td>0.70</td>\n",
       "      <td>0.85</td>\n",
       "      <td>0.83</td>\n",
       "      <td>0.42</td>\n",
       "      <td>0.71</td>\n",
       "      <td>0.86</td>\n",
       "      <td>0.86</td>\n",
       "    </tr>\n",
       "    <tr>\n",
       "      <th>root_mean_squared_error</th>\n",
       "      <td>3.97</td>\n",
       "      <td>4.13</td>\n",
       "      <td>4.10</td>\n",
       "      <td>4.13</td>\n",
       "      <td>4.19</td>\n",
       "      <td>4.36</td>\n",
       "      <td>4.17</td>\n",
       "      <td>4.92</td>\n",
       "      <td>5.27</td>\n",
       "      <td>4.12</td>\n",
       "      <td>10.40</td>\n",
       "      <td>4.73</td>\n",
       "      <td>4.75</td>\n",
       "      <td>5.78</td>\n",
       "      <td>4.12</td>\n",
       "      <td>4.32</td>\n",
       "      <td>8.02</td>\n",
       "      <td>5.65</td>\n",
       "      <td>3.96</td>\n",
       "      <td>3.95</td>\n",
       "    </tr>\n",
       "    <tr>\n",
       "      <th>root_mean_squared_log_error</th>\n",
       "      <td>0.18</td>\n",
       "      <td>0.20</td>\n",
       "      <td>0.19</td>\n",
       "      <td>0.20</td>\n",
       "      <td>0.20</td>\n",
       "      <td>0.22</td>\n",
       "      <td>0.20</td>\n",
       "      <td>0.23</td>\n",
       "      <td>0.24</td>\n",
       "      <td>0.19</td>\n",
       "      <td>0.54</td>\n",
       "      <td>0.22</td>\n",
       "      <td>0.21</td>\n",
       "      <td>0.26</td>\n",
       "      <td>0.19</td>\n",
       "      <td>0.19</td>\n",
       "      <td>0.39</td>\n",
       "      <td>0.28</td>\n",
       "      <td>0.18</td>\n",
       "      <td>0.18</td>\n",
       "    </tr>\n",
       "    <tr>\n",
       "      <th>spearman_correlation</th>\n",
       "      <td>0.95</td>\n",
       "      <td>0.94</td>\n",
       "      <td>0.94</td>\n",
       "      <td>0.94</td>\n",
       "      <td>0.94</td>\n",
       "      <td>0.94</td>\n",
       "      <td>0.94</td>\n",
       "      <td>0.93</td>\n",
       "      <td>0.93</td>\n",
       "      <td>0.94</td>\n",
       "      <td>0.12</td>\n",
       "      <td>0.92</td>\n",
       "      <td>0.92</td>\n",
       "      <td>0.88</td>\n",
       "      <td>0.94</td>\n",
       "      <td>0.94</td>\n",
       "      <td>0.63</td>\n",
       "      <td>0.90</td>\n",
       "      <td>0.95</td>\n",
       "      <td>0.95</td>\n",
       "    </tr>\n",
       "  </tbody>\n",
       "</table>\n",
       "</div>"
      ],
      "text/plain": [
       "                                          0     1     2     3     4     5   \\\n",
       "explained_variance                      0.86  0.85  0.85  0.84  0.84  0.83   \n",
       "mean_absolute_error                     2.07  2.25  2.21  2.26  2.33  2.51   \n",
       "mean_absolute_percentage_error         19.59 21.19 20.67 21.27 22.24 24.21   \n",
       "median_absolute_error                   1.24  1.50  1.45  1.51  1.63  1.86   \n",
       "normalized_mean_absolute_error          0.01  0.02  0.01  0.02  0.02  0.02   \n",
       "normalized_median_absolute_error        0.01  0.01  0.01  0.01  0.01  0.01   \n",
       "normalized_root_mean_squared_error      0.03  0.03  0.03  0.03  0.03  0.03   \n",
       "normalized_root_mean_squared_log_error  0.04  0.04  0.04  0.04  0.04  0.04   \n",
       "r2_score                                0.86  0.85  0.85  0.84  0.84  0.83   \n",
       "root_mean_squared_error                 3.97  4.13  4.10  4.13  4.19  4.36   \n",
       "root_mean_squared_log_error             0.18  0.20  0.19  0.20  0.20  0.22   \n",
       "spearman_correlation                    0.95  0.94  0.94  0.94  0.94  0.94   \n",
       "\n",
       "                                          6     7     8     9     10    11  \\\n",
       "explained_variance                      0.84  0.78  0.75  0.85  0.02  0.80   \n",
       "mean_absolute_error                     2.31  2.64  2.84  2.23  7.18  2.58   \n",
       "mean_absolute_percentage_error         21.94 24.92 26.83 20.92 61.67 23.95   \n",
       "median_absolute_error                   1.59  1.73  1.96  1.47  5.84  1.62   \n",
       "normalized_mean_absolute_error          0.02  0.02  0.02  0.02  0.05  0.02   \n",
       "normalized_median_absolute_error        0.01  0.01  0.01  0.01  0.04  0.01   \n",
       "normalized_root_mean_squared_error      0.03  0.03  0.04  0.03  0.07  0.03   \n",
       "normalized_root_mean_squared_log_error  0.04  0.05  0.05  0.04  0.11  0.04   \n",
       "r2_score                                0.84  0.78  0.75  0.85  0.02  0.80   \n",
       "root_mean_squared_error                 4.17  4.92  5.27  4.12 10.40  4.73   \n",
       "root_mean_squared_log_error             0.20  0.23  0.24  0.19  0.54  0.22   \n",
       "spearman_correlation                    0.94  0.93  0.93  0.94  0.12  0.92   \n",
       "\n",
       "                                          12    13    14    15    16    17  \\\n",
       "explained_variance                      0.79  0.70  0.85  0.83  0.42  0.71   \n",
       "mean_absolute_error                     2.52  3.11  2.23  2.19  4.89  3.37   \n",
       "mean_absolute_percentage_error         21.74 26.50 20.92 20.12 42.24 31.10   \n",
       "median_absolute_error                   1.47  1.64  1.47  1.22  3.15  2.41   \n",
       "normalized_mean_absolute_error          0.02  0.02  0.02  0.01  0.03  0.02   \n",
       "normalized_median_absolute_error        0.01  0.01  0.01  0.01  0.02  0.02   \n",
       "normalized_root_mean_squared_error      0.03  0.04  0.03  0.03  0.05  0.04   \n",
       "normalized_root_mean_squared_log_error  0.04  0.05  0.04  0.04  0.08  0.06   \n",
       "r2_score                                0.79  0.70  0.85  0.83  0.42  0.71   \n",
       "root_mean_squared_error                 4.75  5.78  4.12  4.32  8.02  5.65   \n",
       "root_mean_squared_log_error             0.21  0.26  0.19  0.19  0.39  0.28   \n",
       "spearman_correlation                    0.92  0.88  0.94  0.94  0.63  0.90   \n",
       "\n",
       "                                          18    19  \n",
       "explained_variance                      0.86  0.86  \n",
       "mean_absolute_error                     2.08  2.08  \n",
       "mean_absolute_percentage_error         19.69 19.87  \n",
       "median_absolute_error                   1.27  1.28  \n",
       "normalized_mean_absolute_error          0.01  0.01  \n",
       "normalized_median_absolute_error        0.01  0.01  \n",
       "normalized_root_mean_squared_error      0.03  0.03  \n",
       "normalized_root_mean_squared_log_error  0.04  0.04  \n",
       "r2_score                                0.86  0.86  \n",
       "root_mean_squared_error                 3.96  3.95  \n",
       "root_mean_squared_log_error             0.18  0.18  \n",
       "spearman_correlation                    0.95  0.95  "
      ]
     },
     "execution_count": 9,
     "metadata": {},
     "output_type": "execute_result"
    }
   ],
   "source": [
    "import pandas as pd\n",
    "\n",
    "children = list(parent_run.get_children())\n",
    "metricslist = {}\n",
    "for run in children:\n",
    "    properties = run.get_properties()\n",
    "    metrics = {k: v for k, v in run.get_metrics().items() if isinstance(v, float)}\n",
    "    metricslist[int(properties['iteration'])] = metrics\n",
    "\n",
    "rundata = pd.DataFrame(metricslist).sort_index(1)\n",
    "rundata"
   ]
  },
  {
   "cell_type": "code",
   "execution_count": 10,
   "metadata": {},
   "outputs": [],
   "source": [
    "best_run, best_model = parent_run.get_output()"
   ]
  },
  {
   "cell_type": "code",
   "execution_count": 11,
   "metadata": {},
   "outputs": [
    {
     "data": {
      "text/plain": [
       "RegressionPipeline(pipeline=Pipeline(memory=None,\n",
       "     steps=[('datatransformer', DataTransformer(enable_dnn=None, enable_feature_sweeping=None,\n",
       "        feature_sweeping_config=None, feature_sweeping_timeout=None,\n",
       "        featurization_config=None, force_text_dnn=None,\n",
       "        is_cross_validation=None, is_onnx_compatible=None, logger=None,\n",
       "        obser...   random_state=None, selection='cyclic', tol=0.0001, verbose=0),\n",
       "            training_cv_folds=5))]),\n",
       "          stddev=None)"
      ]
     },
     "execution_count": 11,
     "metadata": {},
     "output_type": "execute_result"
    }
   ],
   "source": [
    "best_model"
   ]
  },
  {
   "cell_type": "code",
   "execution_count": 12,
   "metadata": {},
   "outputs": [
    {
     "name": "stdout",
     "output_type": "stream",
     "text": [
      "RegressionPipeline(pipeline=Pipeline(memory=None,\n",
      "     steps=[('datatransformer', DataTransformer(enable_dnn=None, enable_feature_sweeping=None,\n",
      "        feature_sweeping_config=None, feature_sweeping_timeout=None,\n",
      "        featurization_config=None, force_text_dnn=None,\n",
      "        is_cross_validation=None, is_onnx_compatible=None, logger=None,\n",
      "        obser...      precompute=False, random_state=None, selection='cyclic', tol=0.0001,\n",
      "      warm_start=False))]),\n",
      "          stddev=None)\n"
     ]
    }
   ],
   "source": [
    "third_run, third_model = parent_run.get_output(iteration = 3)\n",
    "print(third_model)"
   ]
  },
  {
   "cell_type": "code",
   "execution_count": 13,
   "metadata": {},
   "outputs": [],
   "source": [
    "from pprint import pprint\n",
    "\n",
    "def print_model(model, prefix=\"\"):\n",
    "    for step in model.steps:\n",
    "        print(prefix + step[0])\n",
    "        if hasattr(step[1], 'estimators') and hasattr(step[1], 'weights'):\n",
    "            pprint({'estimators': list(e[0] for e in step[1].estimators), 'weights': step[1].weights})\n",
    "            print()\n",
    "            for estimator in step[1].estimators:\n",
    "                print_model(estimator[1], estimator[0]+ ' - ')\n",
    "        elif hasattr(step[1], '_base_learners') and hasattr(step[1], '_meta_learner'):\n",
    "            print(\"\\nMeta Learner\")\n",
    "            pprint(step[1]._meta_learner)\n",
    "            print()\n",
    "            for estimator in step[1]._base_learners:\n",
    "                print_model(estimator[1], estimator[0]+ ' - ')\n",
    "        else:\n",
    "            pprint(step[1].get_params())\n",
    "            print()"
   ]
  },
  {
   "cell_type": "code",
   "execution_count": 14,
   "metadata": {},
   "outputs": [
    {
     "name": "stdout",
     "output_type": "stream",
     "text": [
      "datatransformer\n",
      "{'enable_dnn': None,\n",
      " 'enable_feature_sweeping': None,\n",
      " 'feature_sweeping_config': None,\n",
      " 'feature_sweeping_timeout': None,\n",
      " 'featurization_config': None,\n",
      " 'force_text_dnn': None,\n",
      " 'is_cross_validation': None,\n",
      " 'is_onnx_compatible': None,\n",
      " 'logger': None,\n",
      " 'observer': None,\n",
      " 'task': None,\n",
      " 'working_dir': None}\n",
      "\n",
      "RobustScaler\n",
      "{'copy': True,\n",
      " 'quantile_range': [25, 75],\n",
      " 'with_centering': True,\n",
      " 'with_scaling': False}\n",
      "\n",
      "ElasticNet\n",
      "{'alpha': 0.8422631578947368,\n",
      " 'copy_X': True,\n",
      " 'fit_intercept': True,\n",
      " 'l1_ratio': 1,\n",
      " 'max_iter': 1000,\n",
      " 'normalize': False,\n",
      " 'positive': False,\n",
      " 'precompute': False,\n",
      " 'random_state': None,\n",
      " 'selection': 'cyclic',\n",
      " 'tol': 0.0001,\n",
      " 'warm_start': False}\n",
      "\n"
     ]
    }
   ],
   "source": [
    "print_model(third_model)"
   ]
  },
  {
   "cell_type": "code",
   "execution_count": null,
   "metadata": {},
   "outputs": [],
   "source": []
  },
  {
   "cell_type": "code",
   "execution_count": null,
   "metadata": {},
   "outputs": [],
   "source": []
  },
  {
   "cell_type": "markdown",
   "metadata": {},
   "source": [
    "### AzureML Pipeline data"
   ]
  },
  {
   "cell_type": "code",
   "execution_count": 28,
   "metadata": {},
   "outputs": [],
   "source": [
    "from azureml.core.run import Run\n",
    "\n",
    "run_id = \"010d9d91-42e6-4071-9417-cd713b0b25f3\"\n",
    "experiment = ws.experiments[\"car_price_prediction\"]\n",
    "parent_run = Run(experiment, run_id)"
   ]
  },
  {
   "cell_type": "code",
   "execution_count": 30,
   "metadata": {},
   "outputs": [],
   "source": [
    "children = list(parent_run.get_children())\n",
    "metricslist = {}\n",
    "# for run in children:\n",
    "#     properties = run.get_properties()\n",
    "#     metrics = {k: v for k, v in run.get_metrics().items() if isinstance(v, float)}\n",
    "#     metricslist[int(properties['iteration'])] = metrics\n",
    "\n",
    "# rundata = pd.DataFrame(metricslist).sort_index(1)\n",
    "# rundata"
   ]
  },
  {
   "cell_type": "code",
   "execution_count": 47,
   "metadata": {},
   "outputs": [
    {
     "name": "stdout",
     "output_type": "stream",
     "text": [
      "--------------------\n",
      "--------------------\n",
      "--------------------\n",
      "['Trained_model', 'azureml-logs/55_azureml-execution-tvmps_232d526c849e9eee7bcecdce6780a0a0c04b4387b1d517963d9786c49c0ade92_p.txt', 'azureml-logs/65_job_prep-tvmps_232d526c849e9eee7bcecdce6780a0a0c04b4387b1d517963d9786c49c0ade92_p.txt', 'azureml-logs/70_driver_log.txt', 'azureml-logs/75_job_post-tvmps_232d526c849e9eee7bcecdce6780a0a0c04b4387b1d517963d9786c49c0ade92_p.txt', 'azureml-logs/process_info.json', 'azureml-logs/process_status.json', 'logs/azureml/106_azureml.log', 'logs/azureml/executionlogs.txt', 'logs/azureml/job_prep_azureml.log', 'logs/azureml/job_release_azureml.log', 'logs/azureml/stderrlogs.txt', 'logs/azureml/stdoutlogs.txt', 'module_statistics/error_info.json']\n",
      "--------------------\n",
      "--------------------\n",
      "--------------------\n",
      "--------------------\n"
     ]
    }
   ],
   "source": [
    "for run in children:\n",
    "    properties = run.get_properties()\n",
    "#     print(run.__dict__)\n",
    "    print(\"-\"*20)\n",
    "    if (run._run_id== '17823edf-2660-41c8-82c1-b3873f5eb79e'):\n",
    "#         print(run.__dict__)\n",
    "        print(run.get_file_names())\n",
    "        run.download_file('Trained_model', output_file_path='Trained_model.pkl')"
   ]
  },
  {
   "cell_type": "code",
   "execution_count": null,
   "metadata": {},
   "outputs": [],
   "source": []
  }
 ],
 "metadata": {
  "kernel_info": {
   "name": "python3-azureml"
  },
  "kernelspec": {
   "display_name": "Python 3.6 - AzureML",
   "language": "python",
   "name": "python3-azureml"
  },
  "language_info": {
   "codemirror_mode": {
    "name": "ipython",
    "version": 3
   },
   "file_extension": ".py",
   "mimetype": "text/x-python",
   "name": "python",
   "nbconvert_exporter": "python",
   "pygments_lexer": "ipython3",
   "version": "3.6.9"
  },
  "nteract": {
   "version": "nteract-front-end@1.0.0"
  }
 },
 "nbformat": 4,
 "nbformat_minor": 2
}
