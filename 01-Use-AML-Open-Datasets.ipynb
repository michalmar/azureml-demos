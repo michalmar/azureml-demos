{
 "cells": [
  {
   "cell_type": "markdown",
   "metadata": {},
   "source": [
    "Copyright (c) Microsoft Corporation. All rights reserved.\n",
    "\n",
    "Licensed under the MIT License."
   ]
  },
  {
   "cell_type": "markdown",
   "metadata": {},
   "source": [
    "# Tutorial: Load Open Datasets Data\n",
    "\n",
    "source: https://azure.microsoft.com/en-us/services/open-datasets/catalog/sample-oj-sales-simulated/#AzureNotebooks"
   ]
  },
  {
   "cell_type": "markdown",
   "metadata": {},
   "source": [
    "## Install azureml-opendatasets SDK"
   ]
  },
  {
   "cell_type": "code",
   "execution_count": null,
   "metadata": {
    "scrolled": true
   },
   "outputs": [],
   "source": [
    "# !pip uninstall -y azureml-opendatasets\n",
    "# !pip install azureml-opendatasets"
   ]
  },
  {
   "cell_type": "markdown",
   "metadata": {},
   "source": [
    "Import NoaaIsdWeather class from azureml-opendatasets"
   ]
  },
  {
   "cell_type": "code",
   "execution_count": null,
   "metadata": {},
   "outputs": [],
   "source": [
    "from azureml.opendatasets import NoaaIsdWeather\n",
    "from azureml.opendatasets import OjSalesSimulated\n",
    "from azureml.opendatasets import Diabetes\n",
    "\n",
    "from datetime import datetime\n",
    "from dateutil import parser\n",
    "from dateutil.relativedelta import relativedelta"
   ]
  },
  {
   "cell_type": "code",
   "execution_count": null,
   "metadata": {},
   "outputs": [],
   "source": [
    "## Check core SDK version number\n",
    "import azureml.core\n",
    "\n",
    "from azureml.core import Workspace\n",
    "\n",
    "ws = Workspace.from_config()\n",
    "print(\"[SUCCESS] LOGGED IN: \",ws.name, ws.resource_group, ws.location, ws.subscription_id, sep=' @ ')\n"
   ]
  },
  {
   "cell_type": "markdown",
   "metadata": {},
   "source": [
    "## Load Diabetes Data"
   ]
  },
  {
   "cell_type": "code",
   "execution_count": null,
   "metadata": {},
   "outputs": [],
   "source": [
    "diabetes = Diabetes.get_tabular_dataset()\n",
    "pdf = diabetes.to_pandas_dataframe()"
   ]
  },
  {
   "cell_type": "code",
   "execution_count": null,
   "metadata": {},
   "outputs": [],
   "source": [
    "pdf.info()"
   ]
  },
  {
   "cell_type": "code",
   "execution_count": null,
   "metadata": {},
   "outputs": [],
   "source": [
    "# Create a Data Directory in local path\n",
    "import os\n",
    "\n",
    "data_path = os.path.join(\"data\",\"download\",\"diabetes\")\n",
    "\n",
    "if not os.path.exists(data_path):\n",
    "    os.mkdir(data_path)"
   ]
  },
  {
   "cell_type": "code",
   "execution_count": null,
   "metadata": {},
   "outputs": [],
   "source": [
    "rows_in_sample = 50\n",
    "n_samples = 9\n",
    "row_start = 0\n",
    "for i in range(n_samples):\n",
    "    tmp = pdf[row_start:row_start+rows_in_sample]\n",
    "    print(f\"getting data from {row_start} to {row_start+rows_in_sample}\")\n",
    "    tmp.to_csv(os.path.join(data_path,f\"diabetes{i}.csv\"), index=False, header=True)\n",
    "    row_start = row_start+rows_in_sample \n",
    "\n"
   ]
  },
  {
   "cell_type": "code",
   "execution_count": null,
   "metadata": {
    "scrolled": true
   },
   "outputs": [],
   "source": [
    "ds = ws.datastores[\"aml_data\"]\n",
    "ds.upload(src_dir=data_path, target_path='diabetes', overwrite=True, show_progress=True)"
   ]
  },
  {
   "cell_type": "markdown",
   "metadata": {},
   "source": [
    "## Load OJ Sales Simulated Data"
   ]
  },
  {
   "cell_type": "code",
   "execution_count": null,
   "metadata": {},
   "outputs": [],
   "source": [
    "# Create a Data Directory in local path\n",
    "import os\n",
    "\n",
    "oj_sales_path = \"data/download/ojs\"\n",
    "\n",
    "if not os.path.exists(oj_sales_path):\n",
    "    os.mkdir(oj_sales_path)"
   ]
  },
  {
   "cell_type": "code",
   "execution_count": null,
   "metadata": {},
   "outputs": [],
   "source": [
    "# Pull all of the data\n",
    "oj_sales_files = OjSalesSimulated.get_file_dataset()\n"
   ]
  },
  {
   "cell_type": "code",
   "execution_count": null,
   "metadata": {},
   "outputs": [],
   "source": [
    "oj_sales_files.take(6).to_path()"
   ]
  },
  {
   "cell_type": "code",
   "execution_count": null,
   "metadata": {},
   "outputs": [],
   "source": [
    "oj_sales_files.take(6).download(oj_sales_path, overwrite=True)"
   ]
  },
  {
   "cell_type": "markdown",
   "metadata": {},
   "source": [
    "> **WARNING** data are being donwloaded to folder: `/data/download/ojs/https%3A/%2Fazureopendatastorage.azurefd.net/ojsales-simulatedcontainer/oj_sales_data` -> need to move first (in shell)"
   ]
  },
  {
   "cell_type": "code",
   "execution_count": null,
   "metadata": {},
   "outputs": [],
   "source": [
    "ds = ws.datastores[\"aml_data\"]\n",
    "ds.upload(src_dir= oj_sales_path, target_path='ojs', overwrite=True, show_progress=True)"
   ]
  },
  {
   "cell_type": "markdown",
   "metadata": {},
   "source": [
    "## Load NoaaIsdWeather"
   ]
  },
  {
   "cell_type": "markdown",
   "metadata": {},
   "source": [
    "> 1. Set start_date and end_date.\n",
    "> 2. New an instance of NoaaIsdWeather.\n",
    "> 3. Call to_pandas_dataframe() method to get a pandas DataFrame."
   ]
  },
  {
   "cell_type": "code",
   "execution_count": null,
   "metadata": {
    "scrolled": true
   },
   "outputs": [],
   "source": [
    "start_date = parser.parse('2018-1-1')\n",
    "end_date = parser.parse('2018-1-4')\n",
    "isd = NoaaIsdWeather(start_date, end_date)\n",
    "# isd.to_pandas_dataframe().info()\n",
    "# print('isd done')"
   ]
  },
  {
   "cell_type": "code",
   "execution_count": null,
   "metadata": {},
   "outputs": [],
   "source": [
    "pdf = isd.to_pandas_dataframe()"
   ]
  },
  {
   "cell_type": "code",
   "execution_count": null,
   "metadata": {},
   "outputs": [],
   "source": [
    "pdf.head(10)"
   ]
  },
  {
   "cell_type": "code",
   "execution_count": null,
   "metadata": {},
   "outputs": [],
   "source": [
    "pdf.reset_index(inplace=True)"
   ]
  },
  {
   "cell_type": "code",
   "execution_count": null,
   "metadata": {},
   "outputs": [],
   "source": [
    "# Create a Data Directory in local path\n",
    "import os\n",
    "\n",
    "weather_path = os.path.join(\"data\",\"download\",\"weather\")\n",
    "\n",
    "if not os.path.exists(weather_path):\n",
    "    os.mkdir(weather_path)"
   ]
  },
  {
   "cell_type": "code",
   "execution_count": null,
   "metadata": {},
   "outputs": [],
   "source": [
    "rows_in_sample = 100\n",
    "n_samples = 6\n",
    "row_start = 0\n",
    "for i in range(n_samples):\n",
    "    tmp = pdf[row_start:row_start+rows_in_sample]\n",
    "    print(f\"getting data from {row_start} to {row_start+rows_in_sample}\")\n",
    "    tmp.to_csv(os.path.join(weather_path,f\"weather{i}.csv\"), index=False, header=True)\n",
    "    row_start = row_start+rows_in_sample \n",
    "\n"
   ]
  },
  {
   "cell_type": "code",
   "execution_count": null,
   "metadata": {
    "scrolled": true
   },
   "outputs": [],
   "source": [
    "ds = ws.datastores[\"aml_data\"]\n",
    "ds.upload(src_dir=weather_path, target_path='weather', overwrite=True, show_progress=True)"
   ]
  }
 ],
 "metadata": {
  "kernelspec": {
   "display_name": "Python 3",
   "language": "python",
   "name": "python3"
  },
  "language_info": {
   "codemirror_mode": {
    "name": "ipython",
    "version": 3
   },
   "file_extension": ".py",
   "mimetype": "text/x-python",
   "name": "python",
   "nbconvert_exporter": "python",
   "pygments_lexer": "ipython3",
   "version": "3.6.9"
  },
  "name": "02-weather-to-pandas-dataframe",
  "notebookId": 2741195231538698
 },
 "nbformat": 4,
 "nbformat_minor": 1
}
