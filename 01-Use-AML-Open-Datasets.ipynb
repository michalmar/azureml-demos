{
 "cells": [
  {
   "cell_type": "markdown",
   "metadata": {},
   "source": [
    "Copyright (c) Microsoft Corporation. All rights reserved.\n",
    "\n",
    "Licensed under the MIT License."
   ]
  },
  {
   "cell_type": "markdown",
   "metadata": {},
   "source": [
    "# Tutorial: Load Open Datasets Data\n",
    "\n",
    "source: https://azure.microsoft.com/en-us/services/open-datasets/catalog/sample-oj-sales-simulated/#AzureNotebooks"
   ]
  },
  {
   "cell_type": "markdown",
   "metadata": {},
   "source": [
    "## Install azureml-opendatasets SDK"
   ]
  },
  {
   "cell_type": "code",
   "execution_count": null,
   "metadata": {
    "scrolled": true
   },
   "outputs": [],
   "source": [
    "# !pip uninstall -y azureml-opendatasets\n",
    "# !pip install azureml-opendatasets"
   ]
  },
  {
   "cell_type": "markdown",
   "metadata": {},
   "source": [
    "Import NoaaIsdWeather class from azureml-opendatasets"
   ]
  },
  {
   "cell_type": "code",
   "execution_count": 2,
   "metadata": {},
   "outputs": [],
   "source": [
    "from azureml.opendatasets import NoaaIsdWeather\n",
    "from azureml.opendatasets import OjSalesSimulated\n",
    "\n",
    "from datetime import datetime\n",
    "from dateutil import parser\n",
    "from dateutil.relativedelta import relativedelta"
   ]
  },
  {
   "cell_type": "code",
   "execution_count": 3,
   "metadata": {},
   "outputs": [
    {
     "name": "stdout",
     "output_type": "stream",
     "text": [
      "[SUCCESS] LOGGED IN:  @ mlops-demo @ mlops-rg @ westeurope @ 6ee947fa-0d77-4915-bf68-4a83a8bec2a4\n"
     ]
    }
   ],
   "source": [
    "## Check core SDK version number\n",
    "import azureml.core\n",
    "\n",
    "from azureml.core import Workspace\n",
    "\n",
    "ws = Workspace.from_config()\n",
    "print(\"[SUCCESS] LOGGED IN: \",ws.name, ws.resource_group, ws.location, ws.subscription_id, sep=' @ ')\n"
   ]
  },
  {
   "cell_type": "markdown",
   "metadata": {},
   "source": [
    "## Load OJ Sales Simulated Data"
   ]
  },
  {
   "cell_type": "code",
   "execution_count": 4,
   "metadata": {},
   "outputs": [],
   "source": [
    "# Create a Data Directory in local path\n",
    "import os\n",
    "\n",
    "oj_sales_path = \"data/download/ojs\"\n",
    "\n",
    "if not os.path.exists(oj_sales_path):\n",
    "    os.mkdir(oj_sales_path)"
   ]
  },
  {
   "cell_type": "code",
   "execution_count": 5,
   "metadata": {},
   "outputs": [],
   "source": [
    "# Pull all of the data\n",
    "oj_sales_files = OjSalesSimulated.get_file_dataset()\n"
   ]
  },
  {
   "cell_type": "code",
   "execution_count": 6,
   "metadata": {},
   "outputs": [
    {
     "data": {
      "text/plain": [
       "['/https%3A/%2Fazureopendatastorage.azurefd.net/ojsales-simulatedcontainer/oj_sales_data/Store1000_dominicks.csv',\n",
       " '/https%3A/%2Fazureopendatastorage.azurefd.net/ojsales-simulatedcontainer/oj_sales_data/Store1000_minute.maid.csv',\n",
       " '/https%3A/%2Fazureopendatastorage.azurefd.net/ojsales-simulatedcontainer/oj_sales_data/Store1000_tropicana.csv',\n",
       " '/https%3A/%2Fazureopendatastorage.azurefd.net/ojsales-simulatedcontainer/oj_sales_data/Store1001_dominicks.csv',\n",
       " '/https%3A/%2Fazureopendatastorage.azurefd.net/ojsales-simulatedcontainer/oj_sales_data/Store1001_minute.maid.csv',\n",
       " '/https%3A/%2Fazureopendatastorage.azurefd.net/ojsales-simulatedcontainer/oj_sales_data/Store1001_tropicana.csv']"
      ]
     },
     "execution_count": 6,
     "metadata": {},
     "output_type": "execute_result"
    }
   ],
   "source": [
    "oj_sales_files.take(6).to_path()"
   ]
  },
  {
   "cell_type": "code",
   "execution_count": 7,
   "metadata": {},
   "outputs": [
    {
     "data": {
      "text/plain": [
       "['/mnt/batch/tasks/shared/LS_root/mounts/clusters/ntb-dev2/code/Users/mimarusa/_DEMO_/azureml-demos/data/download/ojs/https%3A/%2Fazureopendatastorage.azurefd.net/ojsales-simulatedcontainer/oj_sales_data/Store1000_dominicks.csv',\n",
       " '/mnt/batch/tasks/shared/LS_root/mounts/clusters/ntb-dev2/code/Users/mimarusa/_DEMO_/azureml-demos/data/download/ojs/https%3A/%2Fazureopendatastorage.azurefd.net/ojsales-simulatedcontainer/oj_sales_data/Store1000_minute.maid.csv',\n",
       " '/mnt/batch/tasks/shared/LS_root/mounts/clusters/ntb-dev2/code/Users/mimarusa/_DEMO_/azureml-demos/data/download/ojs/https%3A/%2Fazureopendatastorage.azurefd.net/ojsales-simulatedcontainer/oj_sales_data/Store1000_tropicana.csv',\n",
       " '/mnt/batch/tasks/shared/LS_root/mounts/clusters/ntb-dev2/code/Users/mimarusa/_DEMO_/azureml-demos/data/download/ojs/https%3A/%2Fazureopendatastorage.azurefd.net/ojsales-simulatedcontainer/oj_sales_data/Store1001_dominicks.csv',\n",
       " '/mnt/batch/tasks/shared/LS_root/mounts/clusters/ntb-dev2/code/Users/mimarusa/_DEMO_/azureml-demos/data/download/ojs/https%3A/%2Fazureopendatastorage.azurefd.net/ojsales-simulatedcontainer/oj_sales_data/Store1001_minute.maid.csv',\n",
       " '/mnt/batch/tasks/shared/LS_root/mounts/clusters/ntb-dev2/code/Users/mimarusa/_DEMO_/azureml-demos/data/download/ojs/https%3A/%2Fazureopendatastorage.azurefd.net/ojsales-simulatedcontainer/oj_sales_data/Store1001_tropicana.csv']"
      ]
     },
     "execution_count": 7,
     "metadata": {},
     "output_type": "execute_result"
    }
   ],
   "source": [
    "oj_sales_files.take(6).download(oj_sales_path, overwrite=True)"
   ]
  },
  {
   "cell_type": "markdown",
   "metadata": {},
   "source": [
    "> **WARNING** data are being donwloaded to folder: `/data/download/ojs/https%3A/%2Fazureopendatastorage.azurefd.net/ojsales-simulatedcontainer/oj_sales_data` -> need to move first (in shell)"
   ]
  },
  {
   "cell_type": "code",
   "execution_count": 8,
   "metadata": {},
   "outputs": [
    {
     "name": "stdout",
     "output_type": "stream",
     "text": [
      "Uploading an estimated of 9 files\n",
      "Uploading data/download/ojs/Store140_dominicks.csv\n",
      "Uploaded data/download/ojs/Store140_dominicks.csv, 1 files out of an estimated total of 9\n",
      "Uploading data/download/ojs/Store140_tropicana.csv\n",
      "Uploaded data/download/ojs/Store140_tropicana.csv, 2 files out of an estimated total of 9\n",
      "Uploading data/download/ojs/Store141_tropicana.csv\n",
      "Uploaded data/download/ojs/Store141_tropicana.csv, 3 files out of an estimated total of 9\n",
      "Uploading data/download/ojs/Store142_minute.maid.csv\n",
      "Uploaded data/download/ojs/Store142_minute.maid.csv, 4 files out of an estimated total of 9\n",
      "Uploading data/download/ojs/Store142_tropicana.csv\n",
      "Uploaded data/download/ojs/Store142_tropicana.csv, 5 files out of an estimated total of 9\n",
      "Uploading data/download/ojs/Store140_minute.maid.csv\n",
      "Uploaded data/download/ojs/Store140_minute.maid.csv, 6 files out of an estimated total of 9\n",
      "Uploading data/download/ojs/Store141_dominicks.csv\n",
      "Uploaded data/download/ojs/Store141_dominicks.csv, 7 files out of an estimated total of 9\n",
      "Uploading data/download/ojs/Store141_minute.maid.csv\n",
      "Uploaded data/download/ojs/Store141_minute.maid.csv, 8 files out of an estimated total of 9\n",
      "Uploading data/download/ojs/Store142_dominicks.csv\n",
      "Uploaded data/download/ojs/Store142_dominicks.csv, 9 files out of an estimated total of 9\n",
      "Uploaded 9 files\n"
     ]
    },
    {
     "data": {
      "text/plain": [
       "$AZUREML_DATAREFERENCE_dd0ec2809f6348ce9a5b5b5427159716"
      ]
     },
     "execution_count": 8,
     "metadata": {},
     "output_type": "execute_result"
    }
   ],
   "source": [
    "ds = ws.datastores[\"aml_data\"]\n",
    "ds.upload(src_dir= oj_sales_path, target_path='ojs', overwrite=True, show_progress=True)"
   ]
  },
  {
   "cell_type": "markdown",
   "metadata": {},
   "source": [
    "## Load NoaaIsdWeather"
   ]
  },
  {
   "cell_type": "markdown",
   "metadata": {},
   "source": [
    "> 1. Set start_date and end_date.\n",
    "> 2. New an instance of NoaaIsdWeather.\n",
    "> 3. Call to_pandas_dataframe() method to get a pandas DataFrame."
   ]
  },
  {
   "cell_type": "code",
   "execution_count": 12,
   "metadata": {
    "scrolled": true
   },
   "outputs": [],
   "source": [
    "start_date = parser.parse('2018-1-1')\n",
    "end_date = parser.parse('2018-1-4')\n",
    "isd = NoaaIsdWeather(start_date, end_date)\n",
    "# isd.to_pandas_dataframe().info()\n",
    "# print('isd done')"
   ]
  },
  {
   "cell_type": "code",
   "execution_count": 13,
   "metadata": {},
   "outputs": [
    {
     "name": "stdout",
     "output_type": "stream",
     "text": [
      "[Info] read from /tmp/tmpymd1x94q/https%3A/%2Fazureopendatastorage.azurefd.net/isdweatherdatacontainer/ISDWeather/year=2018/month=1/part-00000-tid-8399976593945898762-a12919d0-896d-44dd-8706-1d3327044c4e-5126-1.c000.snappy.parquet\n",
      "[Info] read from /tmp/tmpymd1x94q/https%3A/%2Fazureopendatastorage.azurefd.net/isdweatherdatacontainer/ISDWeather/year=2018/month=1/part-00001-tid-8399976593945898762-a12919d0-896d-44dd-8706-1d3327044c4e-5130-1.c000.snappy.parquet\n",
      "[Info] read from /tmp/tmpymd1x94q/https%3A/%2Fazureopendatastorage.azurefd.net/isdweatherdatacontainer/ISDWeather/year=2018/month=1/part-00002-tid-8399976593945898762-a12919d0-896d-44dd-8706-1d3327044c4e-5128-1.c000.snappy.parquet\n",
      "[Info] read from /tmp/tmpymd1x94q/https%3A/%2Fazureopendatastorage.azurefd.net/isdweatherdatacontainer/ISDWeather/year=2018/month=1/part-00003-tid-8399976593945898762-a12919d0-896d-44dd-8706-1d3327044c4e-5132-1.c000.snappy.parquet\n",
      "[Info] read from /tmp/tmpymd1x94q/https%3A/%2Fazureopendatastorage.azurefd.net/isdweatherdatacontainer/ISDWeather/year=2018/month=1/part-00004-tid-8399976593945898762-a12919d0-896d-44dd-8706-1d3327044c4e-5131-1.c000.snappy.parquet\n",
      "[Info] read from /tmp/tmpymd1x94q/https%3A/%2Fazureopendatastorage.azurefd.net/isdweatherdatacontainer/ISDWeather/year=2018/month=1/part-00005-tid-8399976593945898762-a12919d0-896d-44dd-8706-1d3327044c4e-5129-1.c000.snappy.parquet\n",
      "[Info] read from /tmp/tmpymd1x94q/https%3A/%2Fazureopendatastorage.azurefd.net/isdweatherdatacontainer/ISDWeather/year=2018/month=1/part-00006-tid-8399976593945898762-a12919d0-896d-44dd-8706-1d3327044c4e-5127-1.c000.snappy.parquet\n",
      "[Info] read from /tmp/tmpymd1x94q/https%3A/%2Fazureopendatastorage.azurefd.net/isdweatherdatacontainer/ISDWeather/year=2018/month=1/part-00007-tid-8399976593945898762-a12919d0-896d-44dd-8706-1d3327044c4e-5133-1.c000.snappy.parquet\n"
     ]
    }
   ],
   "source": [
    "pdf = isd.to_pandas_dataframe()"
   ]
  },
  {
   "cell_type": "code",
   "execution_count": 14,
   "metadata": {},
   "outputs": [
    {
     "data": {
      "text/html": [
       "<div>\n",
       "<style scoped>\n",
       "    .dataframe tbody tr th:only-of-type {\n",
       "        vertical-align: middle;\n",
       "    }\n",
       "\n",
       "    .dataframe tbody tr th {\n",
       "        vertical-align: top;\n",
       "    }\n",
       "\n",
       "    .dataframe thead th {\n",
       "        text-align: right;\n",
       "    }\n",
       "</style>\n",
       "<table border=\"1\" class=\"dataframe\">\n",
       "  <thead>\n",
       "    <tr style=\"text-align: right;\">\n",
       "      <th></th>\n",
       "      <th>usaf</th>\n",
       "      <th>wban</th>\n",
       "      <th>datetime</th>\n",
       "      <th>latitude</th>\n",
       "      <th>longitude</th>\n",
       "      <th>elevation</th>\n",
       "      <th>windAngle</th>\n",
       "      <th>windSpeed</th>\n",
       "      <th>temperature</th>\n",
       "      <th>seaLvlPressure</th>\n",
       "      <th>...</th>\n",
       "      <th>precipTime</th>\n",
       "      <th>precipDepth</th>\n",
       "      <th>snowDepth</th>\n",
       "      <th>stationName</th>\n",
       "      <th>countryOrRegion</th>\n",
       "      <th>p_k</th>\n",
       "      <th>year</th>\n",
       "      <th>day</th>\n",
       "      <th>version</th>\n",
       "      <th>month</th>\n",
       "    </tr>\n",
       "  </thead>\n",
       "  <tbody>\n",
       "    <tr>\n",
       "      <th>9</th>\n",
       "      <td>029580</td>\n",
       "      <td>99999</td>\n",
       "      <td>2018-01-03 05:20:00</td>\n",
       "      <td>61.045</td>\n",
       "      <td>28.144</td>\n",
       "      <td>106.0</td>\n",
       "      <td>180.0</td>\n",
       "      <td>3.1</td>\n",
       "      <td>1.0</td>\n",
       "      <td>NaN</td>\n",
       "      <td>...</td>\n",
       "      <td>NaN</td>\n",
       "      <td>NaN</td>\n",
       "      <td>NaN</td>\n",
       "      <td>LAPPEENRANTA</td>\n",
       "      <td>FI</td>\n",
       "      <td>029580-99999</td>\n",
       "      <td>2018</td>\n",
       "      <td>3</td>\n",
       "      <td>1.0</td>\n",
       "      <td>1</td>\n",
       "    </tr>\n",
       "    <tr>\n",
       "      <th>33</th>\n",
       "      <td>726228</td>\n",
       "      <td>94740</td>\n",
       "      <td>2018-01-02 11:51:00</td>\n",
       "      <td>44.385</td>\n",
       "      <td>-74.207</td>\n",
       "      <td>507.0</td>\n",
       "      <td>0.0</td>\n",
       "      <td>0.0</td>\n",
       "      <td>-28.9</td>\n",
       "      <td>1026.0</td>\n",
       "      <td>...</td>\n",
       "      <td>6.0</td>\n",
       "      <td>0.0</td>\n",
       "      <td>NaN</td>\n",
       "      <td>ADIRONDACK REGIONAL ARPT</td>\n",
       "      <td>US</td>\n",
       "      <td>726228-94740</td>\n",
       "      <td>2018</td>\n",
       "      <td>2</td>\n",
       "      <td>1.0</td>\n",
       "      <td>1</td>\n",
       "    </tr>\n",
       "    <tr>\n",
       "      <th>76</th>\n",
       "      <td>999999</td>\n",
       "      <td>94074</td>\n",
       "      <td>2018-01-01 03:55:00</td>\n",
       "      <td>40.807</td>\n",
       "      <td>-104.755</td>\n",
       "      <td>1643.0</td>\n",
       "      <td>NaN</td>\n",
       "      <td>NaN</td>\n",
       "      <td>-12.4</td>\n",
       "      <td>NaN</td>\n",
       "      <td>...</td>\n",
       "      <td>NaN</td>\n",
       "      <td>NaN</td>\n",
       "      <td>NaN</td>\n",
       "      <td>NUNN 7 NNE</td>\n",
       "      <td>US</td>\n",
       "      <td>999999-94074</td>\n",
       "      <td>2018</td>\n",
       "      <td>1</td>\n",
       "      <td>1.0</td>\n",
       "      <td>1</td>\n",
       "    </tr>\n",
       "    <tr>\n",
       "      <th>86</th>\n",
       "      <td>999999</td>\n",
       "      <td>03067</td>\n",
       "      <td>2018-01-03 12:55:00</td>\n",
       "      <td>38.870</td>\n",
       "      <td>-100.963</td>\n",
       "      <td>875.0</td>\n",
       "      <td>NaN</td>\n",
       "      <td>NaN</td>\n",
       "      <td>-10.4</td>\n",
       "      <td>NaN</td>\n",
       "      <td>...</td>\n",
       "      <td>NaN</td>\n",
       "      <td>NaN</td>\n",
       "      <td>NaN</td>\n",
       "      <td>OAKLEY 19 SSW</td>\n",
       "      <td>US</td>\n",
       "      <td>999999-03067</td>\n",
       "      <td>2018</td>\n",
       "      <td>3</td>\n",
       "      <td>1.0</td>\n",
       "      <td>1</td>\n",
       "    </tr>\n",
       "    <tr>\n",
       "      <th>102</th>\n",
       "      <td>999999</td>\n",
       "      <td>94077</td>\n",
       "      <td>2018-01-02 19:50:00</td>\n",
       "      <td>42.425</td>\n",
       "      <td>-103.736</td>\n",
       "      <td>1343.0</td>\n",
       "      <td>NaN</td>\n",
       "      <td>NaN</td>\n",
       "      <td>-3.8</td>\n",
       "      <td>NaN</td>\n",
       "      <td>...</td>\n",
       "      <td>NaN</td>\n",
       "      <td>NaN</td>\n",
       "      <td>NaN</td>\n",
       "      <td>HARRISON 20 SSE</td>\n",
       "      <td>US</td>\n",
       "      <td>999999-94077</td>\n",
       "      <td>2018</td>\n",
       "      <td>2</td>\n",
       "      <td>1.0</td>\n",
       "      <td>1</td>\n",
       "    </tr>\n",
       "    <tr>\n",
       "      <th>108</th>\n",
       "      <td>999999</td>\n",
       "      <td>03067</td>\n",
       "      <td>2018-01-03 15:20:00</td>\n",
       "      <td>38.870</td>\n",
       "      <td>-100.963</td>\n",
       "      <td>875.0</td>\n",
       "      <td>NaN</td>\n",
       "      <td>NaN</td>\n",
       "      <td>-6.8</td>\n",
       "      <td>NaN</td>\n",
       "      <td>...</td>\n",
       "      <td>NaN</td>\n",
       "      <td>NaN</td>\n",
       "      <td>NaN</td>\n",
       "      <td>OAKLEY 19 SSW</td>\n",
       "      <td>US</td>\n",
       "      <td>999999-03067</td>\n",
       "      <td>2018</td>\n",
       "      <td>3</td>\n",
       "      <td>1.0</td>\n",
       "      <td>1</td>\n",
       "    </tr>\n",
       "    <tr>\n",
       "      <th>131</th>\n",
       "      <td>011120</td>\n",
       "      <td>99999</td>\n",
       "      <td>2018-01-01 11:00:00</td>\n",
       "      <td>65.450</td>\n",
       "      <td>12.217</td>\n",
       "      <td>9.0</td>\n",
       "      <td>90.0</td>\n",
       "      <td>4.0</td>\n",
       "      <td>3.1</td>\n",
       "      <td>984.2</td>\n",
       "      <td>...</td>\n",
       "      <td>NaN</td>\n",
       "      <td>NaN</td>\n",
       "      <td>NaN</td>\n",
       "      <td>BRONNOY</td>\n",
       "      <td>NO</td>\n",
       "      <td>011120-99999</td>\n",
       "      <td>2018</td>\n",
       "      <td>1</td>\n",
       "      <td>1.0</td>\n",
       "      <td>1</td>\n",
       "    </tr>\n",
       "    <tr>\n",
       "      <th>136</th>\n",
       "      <td>999999</td>\n",
       "      <td>94077</td>\n",
       "      <td>2018-01-01 15:20:00</td>\n",
       "      <td>42.425</td>\n",
       "      <td>-103.736</td>\n",
       "      <td>1343.0</td>\n",
       "      <td>NaN</td>\n",
       "      <td>NaN</td>\n",
       "      <td>-16.1</td>\n",
       "      <td>NaN</td>\n",
       "      <td>...</td>\n",
       "      <td>NaN</td>\n",
       "      <td>NaN</td>\n",
       "      <td>NaN</td>\n",
       "      <td>HARRISON 20 SSE</td>\n",
       "      <td>US</td>\n",
       "      <td>999999-94077</td>\n",
       "      <td>2018</td>\n",
       "      <td>1</td>\n",
       "      <td>1.0</td>\n",
       "      <td>1</td>\n",
       "    </tr>\n",
       "    <tr>\n",
       "      <th>187</th>\n",
       "      <td>082840</td>\n",
       "      <td>99999</td>\n",
       "      <td>2018-01-03 10:00:00</td>\n",
       "      <td>39.485</td>\n",
       "      <td>-0.475</td>\n",
       "      <td>56.0</td>\n",
       "      <td>260.0</td>\n",
       "      <td>5.7</td>\n",
       "      <td>15.2</td>\n",
       "      <td>1029.2</td>\n",
       "      <td>...</td>\n",
       "      <td>NaN</td>\n",
       "      <td>NaN</td>\n",
       "      <td>NaN</td>\n",
       "      <td>VALENCIA</td>\n",
       "      <td>SP</td>\n",
       "      <td>082840-99999</td>\n",
       "      <td>2018</td>\n",
       "      <td>3</td>\n",
       "      <td>1.0</td>\n",
       "      <td>1</td>\n",
       "    </tr>\n",
       "    <tr>\n",
       "      <th>215</th>\n",
       "      <td>486980</td>\n",
       "      <td>99999</td>\n",
       "      <td>2018-01-01 23:30:00</td>\n",
       "      <td>1.350</td>\n",
       "      <td>103.994</td>\n",
       "      <td>7.0</td>\n",
       "      <td>60.0</td>\n",
       "      <td>2.6</td>\n",
       "      <td>25.0</td>\n",
       "      <td>NaN</td>\n",
       "      <td>...</td>\n",
       "      <td>NaN</td>\n",
       "      <td>NaN</td>\n",
       "      <td>NaN</td>\n",
       "      <td>SINGAPORE CHANGI INTL</td>\n",
       "      <td>SN</td>\n",
       "      <td>486980-99999</td>\n",
       "      <td>2018</td>\n",
       "      <td>1</td>\n",
       "      <td>1.0</td>\n",
       "      <td>1</td>\n",
       "    </tr>\n",
       "  </tbody>\n",
       "</table>\n",
       "<p>10 rows × 23 columns</p>\n",
       "</div>"
      ],
      "text/plain": [
       "       usaf   wban            datetime  latitude  longitude  elevation  \\\n",
       "9    029580  99999 2018-01-03 05:20:00    61.045     28.144      106.0   \n",
       "33   726228  94740 2018-01-02 11:51:00    44.385    -74.207      507.0   \n",
       "76   999999  94074 2018-01-01 03:55:00    40.807   -104.755     1643.0   \n",
       "86   999999  03067 2018-01-03 12:55:00    38.870   -100.963      875.0   \n",
       "102  999999  94077 2018-01-02 19:50:00    42.425   -103.736     1343.0   \n",
       "108  999999  03067 2018-01-03 15:20:00    38.870   -100.963      875.0   \n",
       "131  011120  99999 2018-01-01 11:00:00    65.450     12.217        9.0   \n",
       "136  999999  94077 2018-01-01 15:20:00    42.425   -103.736     1343.0   \n",
       "187  082840  99999 2018-01-03 10:00:00    39.485     -0.475       56.0   \n",
       "215  486980  99999 2018-01-01 23:30:00     1.350    103.994        7.0   \n",
       "\n",
       "     windAngle  windSpeed  temperature  seaLvlPressure  ... precipTime  \\\n",
       "9        180.0        3.1          1.0             NaN  ...        NaN   \n",
       "33         0.0        0.0        -28.9          1026.0  ...        6.0   \n",
       "76         NaN        NaN        -12.4             NaN  ...        NaN   \n",
       "86         NaN        NaN        -10.4             NaN  ...        NaN   \n",
       "102        NaN        NaN         -3.8             NaN  ...        NaN   \n",
       "108        NaN        NaN         -6.8             NaN  ...        NaN   \n",
       "131       90.0        4.0          3.1           984.2  ...        NaN   \n",
       "136        NaN        NaN        -16.1             NaN  ...        NaN   \n",
       "187      260.0        5.7         15.2          1029.2  ...        NaN   \n",
       "215       60.0        2.6         25.0             NaN  ...        NaN   \n",
       "\n",
       "     precipDepth  snowDepth               stationName  countryOrRegion  \\\n",
       "9            NaN        NaN              LAPPEENRANTA               FI   \n",
       "33           0.0        NaN  ADIRONDACK REGIONAL ARPT               US   \n",
       "76           NaN        NaN                NUNN 7 NNE               US   \n",
       "86           NaN        NaN             OAKLEY 19 SSW               US   \n",
       "102          NaN        NaN           HARRISON 20 SSE               US   \n",
       "108          NaN        NaN             OAKLEY 19 SSW               US   \n",
       "131          NaN        NaN                   BRONNOY               NO   \n",
       "136          NaN        NaN           HARRISON 20 SSE               US   \n",
       "187          NaN        NaN                  VALENCIA               SP   \n",
       "215          NaN        NaN     SINGAPORE CHANGI INTL               SN   \n",
       "\n",
       "              p_k  year day version  month  \n",
       "9    029580-99999  2018   3     1.0      1  \n",
       "33   726228-94740  2018   2     1.0      1  \n",
       "76   999999-94074  2018   1     1.0      1  \n",
       "86   999999-03067  2018   3     1.0      1  \n",
       "102  999999-94077  2018   2     1.0      1  \n",
       "108  999999-03067  2018   3     1.0      1  \n",
       "131  011120-99999  2018   1     1.0      1  \n",
       "136  999999-94077  2018   1     1.0      1  \n",
       "187  082840-99999  2018   3     1.0      1  \n",
       "215  486980-99999  2018   1     1.0      1  \n",
       "\n",
       "[10 rows x 23 columns]"
      ]
     },
     "execution_count": 14,
     "metadata": {},
     "output_type": "execute_result"
    }
   ],
   "source": [
    "pdf.head(10)"
   ]
  },
  {
   "cell_type": "code",
   "execution_count": 15,
   "metadata": {},
   "outputs": [],
   "source": [
    "pdf.reset_index(inplace=True)"
   ]
  },
  {
   "cell_type": "code",
   "execution_count": 16,
   "metadata": {},
   "outputs": [],
   "source": [
    "# Create a Data Directory in local path\n",
    "import os\n",
    "\n",
    "weather_path = os.path.join(\"data\",\"download\",\"weather\")\n",
    "\n",
    "if not os.path.exists(weather_path):\n",
    "    os.mkdir(weather_path)"
   ]
  },
  {
   "cell_type": "code",
   "execution_count": 17,
   "metadata": {},
   "outputs": [
    {
     "name": "stdout",
     "output_type": "stream",
     "text": [
      "getting data from 0 to 100\n",
      "getting data from 100 to 200\n",
      "getting data from 200 to 300\n",
      "getting data from 300 to 400\n",
      "getting data from 400 to 500\n",
      "getting data from 500 to 600\n"
     ]
    }
   ],
   "source": [
    "rows_in_sample = 100\n",
    "n_samples = 6\n",
    "row_start = 0\n",
    "for i in range(n_samples):\n",
    "    tmp = pdf[row_start:row_start+rows_in_sample]\n",
    "    print(f\"getting data from {row_start} to {row_start+rows_in_sample}\")\n",
    "    tmp.to_csv(os.path.join(weather_path,f\"weather{i}.csv\"), index=False, header=True)\n",
    "    row_start = row_start+rows_in_sample \n",
    "\n"
   ]
  },
  {
   "cell_type": "code",
   "execution_count": 18,
   "metadata": {},
   "outputs": [
    {
     "name": "stdout",
     "output_type": "stream",
     "text": [
      "Uploading an estimated of 6 files\n",
      "Uploading data/download/weather/weather0.csv\n",
      "Uploaded data/download/weather/weather0.csv, 1 files out of an estimated total of 6\n",
      "Uploading data/download/weather/weather1.csv\n",
      "Uploaded data/download/weather/weather1.csv, 2 files out of an estimated total of 6\n",
      "Uploading data/download/weather/weather2.csv\n",
      "Uploaded data/download/weather/weather2.csv, 3 files out of an estimated total of 6\n",
      "Uploading data/download/weather/weather3.csv\n",
      "Uploaded data/download/weather/weather3.csv, 4 files out of an estimated total of 6\n",
      "Uploading data/download/weather/weather4.csv\n",
      "Uploaded data/download/weather/weather4.csv, 5 files out of an estimated total of 6\n",
      "Uploading data/download/weather/weather5.csv\n",
      "Uploaded data/download/weather/weather5.csv, 6 files out of an estimated total of 6\n",
      "Uploaded 6 files\n"
     ]
    },
    {
     "data": {
      "text/plain": [
       "$AZUREML_DATAREFERENCE_cab07397548d419f8952b77fbabe7d31"
      ]
     },
     "execution_count": 18,
     "metadata": {},
     "output_type": "execute_result"
    }
   ],
   "source": [
    "ds = ws.datastores[\"aml_data\"]\n",
    "ds.upload(src_dir=weather_path, target_path='weather', overwrite=True, show_progress=True)"
   ]
  }
 ],
 "metadata": {
  "kernelspec": {
   "display_name": "Python 3",
   "language": "python",
   "name": "python3"
  },
  "language_info": {
   "codemirror_mode": {
    "name": "ipython",
    "version": 3
   },
   "file_extension": ".py",
   "mimetype": "text/x-python",
   "name": "python",
   "nbconvert_exporter": "python",
   "pygments_lexer": "ipython3",
   "version": "3.6.9"
  },
  "name": "02-weather-to-pandas-dataframe",
  "notebookId": 2741195231538698
 },
 "nbformat": 4,
 "nbformat_minor": 1
}
