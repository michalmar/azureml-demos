{
 "cells": [
  {
   "cell_type": "markdown",
   "metadata": {},
   "source": [
    "## Init"
   ]
  },
  {
   "cell_type": "code",
   "execution_count": 1,
   "metadata": {},
   "outputs": [
    {
     "name": "stdout",
     "output_type": "stream",
     "text": [
      "[INFO] SDK version: 1.17.0\n",
      "[SUCCESS] LOGGED IN:  @ mlops-demo @ mlops-rg @ westeurope @ 6ee947fa-0d77-4915-bf68-4a83a8bec2a4\n",
      "[INFO] MLFlow wired to AML: True\n"
     ]
    }
   ],
   "source": [
    "## Check core SDK version number\n",
    "import azureml.core\n",
    "import mlflow\n",
    "import os\n",
    "\n",
    "from azureml.core import (Datastore, Dataset, Environment, Experiment, ScriptRunConfig,\n",
    "                          Workspace)\n",
    "from azureml.core.authentication import InteractiveLoginAuthentication\n",
    "from IPython.display import display\n",
    "\n",
    "\n",
    "\n",
    "print(\"[INFO] SDK version:\", azureml.core.VERSION)\n",
    "\n",
    "## due to diferent tenant -> typically customer tenant\n",
    "# interactive_auth = InteractiveLoginAuthentication(tenant_id=\"72f988bf-86f1-41af-91ab-2d7cd011db47\")\n",
    "\n",
    "ws = Workspace.from_config()\n",
    "print(\"[SUCCESS] LOGGED IN: \",ws.name, ws.resource_group, ws.location, ws.subscription_id, sep=' @ ')\n",
    "\n",
    "## set mlflow backend to AML\n",
    "mlflow.set_tracking_uri(ws.get_mlflow_tracking_uri())\n",
    "\n",
    "print(\"[INFO] MLFlow wired to AML:\", \"experiments.azureml.net\" in mlflow.get_tracking_uri())"
   ]
  },
  {
   "cell_type": "markdown",
   "metadata": {},
   "source": [
    "## Config"
   ]
  },
  {
   "cell_type": "code",
   "execution_count": 8,
   "metadata": {},
   "outputs": [],
   "source": [
    "aml_compute = \"aml-cluster\"\n",
    "aml_ds = \"aml_data\"# \"mmaadlsgen2_test\"\n",
    "# aml_dset = 'noa_weather'\n",
    "aml_dset = \"oj_sample_data\"\n",
    "aml_experiment = \"mlflow-azureml\"\n",
    "loc_data = \"data/demo_data\""
   ]
  },
  {
   "cell_type": "code",
   "execution_count": 3,
   "metadata": {},
   "outputs": [
    {
     "name": "stdout",
     "output_type": "stream",
     "text": [
      "mmaadlsgen2_test (AzureDataLakeGen2)\n",
      "modeldata (AzureBlob)\n",
      "dbxstorage_delta (AzureBlob)\n",
      "aml_data (AzureBlob)\n",
      "azureml_globaldatasets (AzureBlob)\n",
      "covidhack_file (AzureFile)\n",
      "covidhack_blob (AzureBlob)\n",
      "covidhack (AzureFile)\n",
      "workspacefilestore (AzureFile)\n",
      "workspaceblobstore (AzureBlob)\n"
     ]
    }
   ],
   "source": [
    "## List all datastores registered in the current workspace\n",
    "datastores = ws.datastores\n",
    "for name, datastore in datastores.items():\n",
    "    print(f\"{name} ({datastore.datastore_type})\")\n",
    "\n"
   ]
  },
  {
   "cell_type": "code",
   "execution_count": 4,
   "metadata": {},
   "outputs": [
    {
     "name": "stdout",
     "output_type": "stream",
     "text": [
      "[INFO] Datastore: aml_data, type: AzureBlob\n"
     ]
    }
   ],
   "source": [
    "## set the datastore\n",
    "ds = ws.datastores[aml_ds]\n",
    "print(f\"[INFO] Datastore: {ds.name}, type: {ds.datastore_type}\")"
   ]
  },
  {
   "cell_type": "markdown",
   "metadata": {},
   "source": [
    "## Data"
   ]
  },
  {
   "cell_type": "markdown",
   "metadata": {},
   "source": [
    "### File Dataset\n",
    "\n",
    "```python\n",
    "from_files(path, validate=True)\n",
    "```"
   ]
  },
  {
   "cell_type": "code",
   "execution_count": 5,
   "metadata": {},
   "outputs": [],
   "source": [
    "## create a FileDataset pointing to files in 'ojs' folder and its subfolders recursively\n",
    "\n",
    "# datastore_paths = [(ds, 'ojs')]\n",
    "# datastore_paths = [(ds, 'ojs/Store140_dominicks.csv'),(ds, 'ojs/Store141_dominicks.csv'),(ds, 'ojs/Store142_dominicks.csv')]\n",
    "datastore_paths = [(ds, 'ojs/Store140*.csv')]\n",
    "\n",
    "fds = Dataset.File.from_files(path=datastore_paths)"
   ]
  },
  {
   "cell_type": "code",
   "execution_count": 6,
   "metadata": {
    "scrolled": true
   },
   "outputs": [
    {
     "data": {
      "text/plain": [
       "['/Store140_dominicks.csv',\n",
       " '/Store140_minute.maid.csv',\n",
       " '/Store140_tropicana.csv']"
      ]
     },
     "execution_count": 6,
     "metadata": {},
     "output_type": "execute_result"
    }
   ],
   "source": [
    "## show files matching criteria into paths\n",
    "fds.to_path()"
   ]
  },
  {
   "cell_type": "code",
   "execution_count": 9,
   "metadata": {},
   "outputs": [
    {
     "data": {
      "text/plain": [
       "['/mnt/batch/tasks/shared/LS_root/mounts/clusters/ntb-dev2/code/Users/mimarusa/_DEMO_/azureml-demos/data/demo_data/Store140_dominicks.csv',\n",
       " '/mnt/batch/tasks/shared/LS_root/mounts/clusters/ntb-dev2/code/Users/mimarusa/_DEMO_/azureml-demos/data/demo_data/Store140_minute.maid.csv',\n",
       " '/mnt/batch/tasks/shared/LS_root/mounts/clusters/ntb-dev2/code/Users/mimarusa/_DEMO_/azureml-demos/data/demo_data/Store140_tropicana.csv']"
      ]
     },
     "execution_count": 9,
     "metadata": {},
     "output_type": "execute_result"
    }
   ],
   "source": [
    "## download just a sample of the data\n",
    "fds.take(3).download(target_path=os.path.join(\"./\",loc_data), overwrite=True)"
   ]
  },
  {
   "cell_type": "code",
   "execution_count": 10,
   "metadata": {},
   "outputs": [
    {
     "name": "stdout",
     "output_type": "stream",
     "text": [
      "['Store140_dominicks.csv', 'Store140_minute.maid.csv', 'Store140_tropicana.csv']\n"
     ]
    }
   ],
   "source": [
    "## check donwloaded files\n",
    "tmppath = os.path.join(\"./\",loc_data)\n",
    "onlyfiles = [f for f in os.listdir(tmppath) if os.path.isfile(os.path.join(tmppath, f))]\n",
    "print(onlyfiles)"
   ]
  },
  {
   "cell_type": "markdown",
   "metadata": {},
   "source": [
    "### Tabular Dataset\n",
    "\n",
    "```python\n",
    "from_delimited_files(path, separator=',', header=<PromoteHeadersBehavior.ALL_FILES_HAVE_SAME_HEADERS: 3>, encoding=<FileEncoding.UTF8: 0>, quoting=False, infer_column_types=True, skip_rows=0, skip_mode=<SkipLinesBehavior.NO_ROWS: 0>, comment=None, include_path=False, archive_options=None, partition_format=None)\n",
    "\n",
    "```"
   ]
  },
  {
   "cell_type": "code",
   "execution_count": 60,
   "metadata": {},
   "outputs": [],
   "source": [
    "## create a FileDataset pointing to files in 'weather' folder and its subfolders recursively\n",
    "\n",
    "# datastore_paths = [(ds, 'ojs')]\n",
    "# datastore_paths = [(ds, 'ojs/Store140_dominicks.csv'),(ds, 'ojs/Store141_dominicks.csv'),(ds, 'ojs/Store142_dominicks.csv')]\n",
    "datastore_paths = [(ds, 'ojs/Store14*.csv')]\n",
    "\n",
    "tds = Dataset.Tabular.from_delimited_files(path=datastore_paths)"
   ]
  },
  {
   "cell_type": "code",
   "execution_count": 61,
   "metadata": {},
   "outputs": [],
   "source": [
    "pdf = tds.to_pandas_dataframe()"
   ]
  },
  {
   "cell_type": "code",
   "execution_count": 62,
   "metadata": {},
   "outputs": [
    {
     "name": "stdout",
     "output_type": "stream",
     "text": [
      "<class 'pandas.core.frame.DataFrame'>\n",
      "RangeIndex: 1089 entries, 0 to 1088\n",
      "Data columns (total 7 columns):\n",
      "WeekStarting    1089 non-null datetime64[ns]\n",
      "Store           1089 non-null int64\n",
      "Brand           1089 non-null object\n",
      "Quantity        1089 non-null int64\n",
      "Advert          1089 non-null int64\n",
      "Price           1089 non-null float64\n",
      "Revenue         1089 non-null float64\n",
      "dtypes: datetime64[ns](1), float64(2), int64(3), object(1)\n",
      "memory usage: 59.7+ KB\n"
     ]
    }
   ],
   "source": [
    "pdf.info()"
   ]
  },
  {
   "cell_type": "code",
   "execution_count": 64,
   "metadata": {},
   "outputs": [],
   "source": [
    "## register Dataset into Workspace for reusability\n",
    "\n",
    "wtds = tds.register(workspace=ws, name=aml_dset, description='Sample: OJ Sales Simulated Data - sample of 3 stores',create_new_version=True)"
   ]
  },
  {
   "cell_type": "code",
   "execution_count": null,
   "metadata": {},
   "outputs": [],
   "source": [
    "# wtds_profile = wtds.get_profile(ws)"
   ]
  },
  {
   "cell_type": "markdown",
   "metadata": {},
   "source": [
    "### get data from existing dataset"
   ]
  },
  {
   "cell_type": "code",
   "execution_count": 65,
   "metadata": {},
   "outputs": [
    {
     "data": {
      "text/html": [
       "<div>\n",
       "<style scoped>\n",
       "    .dataframe tbody tr th:only-of-type {\n",
       "        vertical-align: middle;\n",
       "    }\n",
       "\n",
       "    .dataframe tbody tr th {\n",
       "        vertical-align: top;\n",
       "    }\n",
       "\n",
       "    .dataframe thead th {\n",
       "        text-align: right;\n",
       "    }\n",
       "</style>\n",
       "<table border=\"1\" class=\"dataframe\">\n",
       "  <thead>\n",
       "    <tr style=\"text-align: right;\">\n",
       "      <th></th>\n",
       "      <th>WeekStarting</th>\n",
       "      <th>Store</th>\n",
       "      <th>Brand</th>\n",
       "      <th>Quantity</th>\n",
       "      <th>Advert</th>\n",
       "      <th>Price</th>\n",
       "      <th>Revenue</th>\n",
       "    </tr>\n",
       "  </thead>\n",
       "  <tbody>\n",
       "    <tr>\n",
       "      <th>0</th>\n",
       "      <td>1990-06-14</td>\n",
       "      <td>140</td>\n",
       "      <td>dominicks</td>\n",
       "      <td>9493</td>\n",
       "      <td>1</td>\n",
       "      <td>2.27</td>\n",
       "      <td>21549.11</td>\n",
       "    </tr>\n",
       "    <tr>\n",
       "      <th>1</th>\n",
       "      <td>1990-06-21</td>\n",
       "      <td>140</td>\n",
       "      <td>dominicks</td>\n",
       "      <td>12343</td>\n",
       "      <td>1</td>\n",
       "      <td>2.39</td>\n",
       "      <td>29499.77</td>\n",
       "    </tr>\n",
       "    <tr>\n",
       "      <th>2</th>\n",
       "      <td>1990-06-28</td>\n",
       "      <td>140</td>\n",
       "      <td>dominicks</td>\n",
       "      <td>15962</td>\n",
       "      <td>1</td>\n",
       "      <td>2.49</td>\n",
       "      <td>39745.38</td>\n",
       "    </tr>\n",
       "    <tr>\n",
       "      <th>3</th>\n",
       "      <td>1990-07-05</td>\n",
       "      <td>140</td>\n",
       "      <td>dominicks</td>\n",
       "      <td>19816</td>\n",
       "      <td>1</td>\n",
       "      <td>2.62</td>\n",
       "      <td>51917.92</td>\n",
       "    </tr>\n",
       "    <tr>\n",
       "      <th>4</th>\n",
       "      <td>1990-07-12</td>\n",
       "      <td>140</td>\n",
       "      <td>dominicks</td>\n",
       "      <td>11806</td>\n",
       "      <td>1</td>\n",
       "      <td>2.58</td>\n",
       "      <td>30459.48</td>\n",
       "    </tr>\n",
       "    <tr>\n",
       "      <th>5</th>\n",
       "      <td>1990-07-19</td>\n",
       "      <td>140</td>\n",
       "      <td>dominicks</td>\n",
       "      <td>14841</td>\n",
       "      <td>1</td>\n",
       "      <td>2.20</td>\n",
       "      <td>32650.20</td>\n",
       "    </tr>\n",
       "    <tr>\n",
       "      <th>6</th>\n",
       "      <td>1990-07-26</td>\n",
       "      <td>140</td>\n",
       "      <td>dominicks</td>\n",
       "      <td>19140</td>\n",
       "      <td>1</td>\n",
       "      <td>2.61</td>\n",
       "      <td>49955.40</td>\n",
       "    </tr>\n",
       "    <tr>\n",
       "      <th>7</th>\n",
       "      <td>1990-08-02</td>\n",
       "      <td>140</td>\n",
       "      <td>dominicks</td>\n",
       "      <td>17697</td>\n",
       "      <td>1</td>\n",
       "      <td>2.45</td>\n",
       "      <td>43357.65</td>\n",
       "    </tr>\n",
       "    <tr>\n",
       "      <th>8</th>\n",
       "      <td>1990-08-09</td>\n",
       "      <td>140</td>\n",
       "      <td>dominicks</td>\n",
       "      <td>15790</td>\n",
       "      <td>1</td>\n",
       "      <td>2.19</td>\n",
       "      <td>34580.10</td>\n",
       "    </tr>\n",
       "    <tr>\n",
       "      <th>9</th>\n",
       "      <td>1990-08-16</td>\n",
       "      <td>140</td>\n",
       "      <td>dominicks</td>\n",
       "      <td>10158</td>\n",
       "      <td>1</td>\n",
       "      <td>2.67</td>\n",
       "      <td>27121.86</td>\n",
       "    </tr>\n",
       "  </tbody>\n",
       "</table>\n",
       "</div>"
      ],
      "text/plain": [
       "  WeekStarting  Store      Brand  Quantity  Advert  Price   Revenue\n",
       "0   1990-06-14    140  dominicks      9493       1   2.27  21549.11\n",
       "1   1990-06-21    140  dominicks     12343       1   2.39  29499.77\n",
       "2   1990-06-28    140  dominicks     15962       1   2.49  39745.38\n",
       "3   1990-07-05    140  dominicks     19816       1   2.62  51917.92\n",
       "4   1990-07-12    140  dominicks     11806       1   2.58  30459.48\n",
       "5   1990-07-19    140  dominicks     14841       1   2.20  32650.20\n",
       "6   1990-07-26    140  dominicks     19140       1   2.61  49955.40\n",
       "7   1990-08-02    140  dominicks     17697       1   2.45  43357.65\n",
       "8   1990-08-09    140  dominicks     15790       1   2.19  34580.10\n",
       "9   1990-08-16    140  dominicks     10158       1   2.67  27121.86"
      ]
     },
     "execution_count": 65,
     "metadata": {},
     "output_type": "execute_result"
    }
   ],
   "source": [
    "wtds = Dataset.get_by_name(ws, name=aml_dset)\n",
    "wtds.to_pandas_dataframe().head(10)"
   ]
  },
  {
   "cell_type": "markdown",
   "metadata": {},
   "source": [
    "## Training"
   ]
  },
  {
   "cell_type": "code",
   "execution_count": null,
   "metadata": {},
   "outputs": [],
   "source": [
    "mlflow.set_experiment(aml_experiment)\n"
   ]
  }
 ],
 "metadata": {
  "kernelspec": {
   "display_name": "Python 3.6 - AzureML",
   "language": "python",
   "name": "python3-azureml"
  },
  "language_info": {
   "codemirror_mode": {
    "name": "ipython",
    "version": 3
   },
   "file_extension": ".py",
   "mimetype": "text/x-python",
   "name": "python",
   "nbconvert_exporter": "python",
   "pygments_lexer": "ipython3",
   "version": "3.6.9"
  }
 },
 "nbformat": 4,
 "nbformat_minor": 2
}
