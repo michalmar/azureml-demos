{
  "cells": [
    {
      "cell_type": "markdown",
      "source": [
        "# EDA with AML Datasets"
      ],
      "metadata": {}
    },
    {
      "cell_type": "code",
      "source": [
        "## Check core SDK version number\n",
        "import azureml.core\n",
        "import mlflow\n",
        "import os\n",
        "\n",
        "from azureml.core import (Datastore, Dataset, Environment, Experiment, ScriptRunConfig,\n",
        "                          Workspace)\n",
        "from azureml.core.authentication import InteractiveLoginAuthentication\n",
        "from IPython.display import display\n",
        "\n",
        "\n",
        "\n",
        "print(\"[INFO] SDK version:\", azureml.core.VERSION)\n",
        "\n",
        "## due to diferent tenant -> typically customer tenant\n",
        "# interactive_auth = InteractiveLoginAuthentication(tenant_id=\"72f988bf-86f1-41af-91ab-2d7cd011db47\")\n",
        "\n",
        "ws = Workspace.from_config()\n",
        "print(\"[SUCCESS] LOGGED IN: \",ws.name, ws.resource_group, ws.location, ws.subscription_id, sep=' @ ')\n",
        "\n",
        "## set mlflow backend to AML\n",
        "mlflow.set_tracking_uri(ws.get_mlflow_tracking_uri())\n",
        "\n",
        "print(\"[INFO] MLFlow wired to AML:\", \"experiments.azureml.net\" in mlflow.get_tracking_uri())"
      ],
      "outputs": [],
      "execution_count": null,
      "metadata": {}
    },
    {
      "cell_type": "markdown",
      "source": [
        "## Config"
      ],
      "metadata": {}
    },
    {
      "cell_type": "code",
      "source": [
        "aml_compute = \"aml-cluster\"\n",
        "aml_ds = \"aml_data\"# \"mmaadlsgen2_test\"\n",
        "# aml_dset = 'noa_weather'\n",
        "# aml_dset = \"oj_sample_data\"\n",
        "aml_dset = \"diabetes_multiple\"\n",
        "aml_experiment = \"mlflow-azureml\"\n",
        "loc_data = \"data/demo_data\""
      ],
      "outputs": [],
      "execution_count": null,
      "metadata": {}
    },
    {
      "cell_type": "code",
      "source": [
        "## set the datastore\n",
        "ds = ws.datastores[aml_ds]\n",
        "print(f\"[INFO] Datastore: {ds.name}, type: {ds.datastore_type}\")"
      ],
      "outputs": [],
      "execution_count": null,
      "metadata": {}
    },
    {
      "cell_type": "markdown",
      "source": [
        "##  EDA"
      ],
      "metadata": {}
    },
    {
      "cell_type": "code",
      "source": [
        "wtds = Dataset.get_by_name(ws, name=aml_dset)\n",
        "pdf = wtds.to_pandas_dataframe()\n",
        "pdf.info()"
      ],
      "outputs": [],
      "execution_count": null,
      "metadata": {}
    },
    {
      "cell_type": "markdown",
      "source": [
        "https://www.kaggle.com/ekami66/detailed-exploratory-data-analysis-with-python"
      ],
      "metadata": {}
    },
    {
      "cell_type": "code",
      "source": [
        "# !pip install seaborn"
      ],
      "outputs": [],
      "execution_count": null,
      "metadata": {}
    },
    {
      "cell_type": "code",
      "source": [
        "import pandas as pd\n",
        "import seaborn as sns\n",
        "import matplotlib.pyplot as plt\n",
        "\n",
        "# Comment this if the data visualisations doesn't work on your side\n",
        "%matplotlib inline\n",
        "\n",
        "plt.style.use('bmh')"
      ],
      "outputs": [],
      "execution_count": null,
      "metadata": {}
    },
    {
      "cell_type": "code",
      "source": [
        "df = pdf.copy()"
      ],
      "outputs": [],
      "execution_count": null,
      "metadata": {}
    },
    {
      "cell_type": "code",
      "source": [
        "# eda_target = \"Revenue\"\n",
        "\n",
        "## Weather\n",
        "# eda_target = \"temperature\"\n",
        "# categorical_features_list = ['usaf', 'wban','stationName', 'countryOrRegion', 'p_k',\n",
        "#        'year', 'day', 'version', 'month', eda_target]\n",
        "# quantitative_features_list = ['latitude', 'longitude', 'elevation',\n",
        "#        'windAngle', 'windSpeed', eda_target]\n",
        "\n",
        "## Diabetes\n",
        "eda_target = 'Y'\n",
        "\n",
        "categorical_features_list = ['SEX', eda_target]\n",
        "quantitative_features_list = ['AGE', 'BMI', 'BP', 'S1', 'S2', 'S3', 'S4', 'S5', 'S6', eda_target]\n"
      ],
      "outputs": [],
      "execution_count": null,
      "metadata": {}
    },
    {
      "cell_type": "code",
      "source": [
        "cols_to_drop = [] # or empty\n",
        "cols_at_end = [eda_target]"
      ],
      "outputs": [],
      "execution_count": null,
      "metadata": {}
    },
    {
      "cell_type": "markdown",
      "source": [
        "Let's just remove [] and the features with 30% or less NaN values"
      ],
      "metadata": {}
    },
    {
      "cell_type": "code",
      "source": [
        "# df.count() does not include NaN values\n",
        "df2 = df[[column for column in df if df[column].count() / len(df) >= 0.3]]\n",
        "\n",
        "for c in cols_to_drop:\n",
        "    del df2[c]\n",
        "    \n",
        "# del df2['Id']\n",
        "print(\"List of dropped columns:\", end=\" \")\n",
        "for c in df.columns:\n",
        "    if c not in df2.columns:\n",
        "        print(c, end=\", \")\n",
        "print('\\n')\n",
        "\n",
        "df2 = df2[[c for c in df2 if c not in cols_at_end] \n",
        "        + [c for c in cols_at_end if c in df2]]\n",
        "\n",
        "df = df2"
      ],
      "outputs": [],
      "execution_count": null,
      "metadata": {}
    },
    {
      "cell_type": "code",
      "source": [
        "df.columns"
      ],
      "outputs": [],
      "execution_count": null,
      "metadata": {}
    },
    {
      "cell_type": "code",
      "source": [
        "print(df[eda_target].describe())\n",
        "plt.figure(figsize=(12, 6))\n",
        "sns.histplot(df[eda_target], color='g', bins=100, kde=True);"
      ],
      "outputs": [],
      "execution_count": null,
      "metadata": {}
    },
    {
      "cell_type": "markdown",
      "source": [
        "#### Numerical data distribution"
      ],
      "metadata": {}
    },
    {
      "cell_type": "code",
      "source": [
        "list(set(df.dtypes.tolist()))"
      ],
      "outputs": [],
      "execution_count": null,
      "metadata": {}
    },
    {
      "cell_type": "code",
      "source": [
        "df_num = df.select_dtypes(include = ['float64', 'int64'])\n",
        "df_num.head()"
      ],
      "outputs": [],
      "execution_count": null,
      "metadata": {}
    },
    {
      "cell_type": "code",
      "source": [
        "df_num.hist(figsize=(16, 20), bins=50, xlabelsize=8, ylabelsize=8); # ; avoid having the matplotlib verbose informations"
      ],
      "outputs": [],
      "execution_count": null,
      "metadata": {
        "scrolled": false
      }
    },
    {
      "cell_type": "markdown",
      "source": [
        "#### Correlation"
      ],
      "metadata": {}
    },
    {
      "cell_type": "code",
      "source": [
        "df_num_corr = df_num.corr()[eda_target][:-1] # -1 because the latest row is SalePrice\n",
        "golden_features_list = df_num_corr[abs(df_num_corr) > 0.5].sort_values(ascending=False)\n",
        "print(\"There is {} strongly correlated values with Target {}:\\n{}\".format(len(golden_features_list), eda_target,golden_features_list))"
      ],
      "outputs": [],
      "execution_count": null,
      "metadata": {}
    },
    {
      "cell_type": "code",
      "source": [
        "for i in range(0, len(df_num.columns), 5):\n",
        "    sns.pairplot(data=df_num,\n",
        "                x_vars=df_num.columns[i:i+5],\n",
        "                y_vars=[eda_target])"
      ],
      "outputs": [],
      "execution_count": null,
      "metadata": {}
    },
    {
      "cell_type": "code",
      "source": [
        "golden_features_list"
      ],
      "outputs": [],
      "execution_count": null,
      "metadata": {}
    },
    {
      "cell_type": "code",
      "source": [
        "corr = df_num.drop(eda_target, axis=1).corr() # We already examined SalePrice correlations\n",
        "plt.figure(figsize=(12, 10))\n",
        "\n",
        "sns.heatmap(corr[(corr >= 0.5) | (corr <= -0.4)], \n",
        "            cmap='viridis', vmax=1.0, vmin=-1.0, linewidths=0.1,\n",
        "            annot=True, annot_kws={\"size\": 8}, square=True);"
      ],
      "outputs": [],
      "execution_count": null,
      "metadata": {
        "scrolled": false
      }
    },
    {
      "cell_type": "markdown",
      "source": [
        "#### Q -> Q (Quantitative to Quantitative relationship)"
      ],
      "metadata": {}
    },
    {
      "cell_type": "code",
      "source": [
        "\n",
        "df_quantitative_values = df[quantitative_features_list]\n",
        "df_quantitative_values.head()"
      ],
      "outputs": [],
      "execution_count": null,
      "metadata": {}
    },
    {
      "cell_type": "code",
      "source": [
        "features_to_analyse = [x for x in quantitative_features_list if x in golden_features_list]\n",
        "features_to_analyse.append(eda_target)\n",
        "features_to_analyse"
      ],
      "outputs": [],
      "execution_count": null,
      "metadata": {}
    },
    {
      "cell_type": "code",
      "source": [
        "fig, ax = plt.subplots(round(len(features_to_analyse) / 3), 3, figsize = (18, 12))\n",
        "\n",
        "for i, ax in enumerate(fig.axes):\n",
        "    if i < len(features_to_analyse) - 1:\n",
        "        sns.regplot(x=features_to_analyse[i],y=eda_target, data=df[features_to_analyse], ax=ax)"
      ],
      "outputs": [],
      "execution_count": null,
      "metadata": {}
    },
    {
      "cell_type": "markdown",
      "source": [
        "#### C -> Q (Categorical to Quantitative relationship)"
      ],
      "metadata": {}
    },
    {
      "cell_type": "code",
      "source": [
        "# quantitative_features_list[:-1] as the last column is SalePrice and we want to keep it\n",
        "categorical_features = [a for a in quantitative_features_list[:-1] + df.columns.tolist() if (a not in quantitative_features_list[:-1]) or (a not in df.columns.tolist())]\n",
        "df_categ = df[categorical_features]\n",
        "df_categ.head()"
      ],
      "outputs": [],
      "execution_count": null,
      "metadata": {}
    },
    {
      "cell_type": "code",
      "source": [
        "df_not_num = df_categ.select_dtypes(include = ['O'])\n",
        "print('There is {} non numerical features including:\\n{}'.format(len(df_not_num.columns), df_not_num.columns.tolist()))"
      ],
      "outputs": [],
      "execution_count": null,
      "metadata": {}
    },
    {
      "cell_type": "code",
      "source": [
        "features_to_analyse = categorical_features_list\n",
        "# features_to_analyse.append(eda_target)"
      ],
      "outputs": [],
      "execution_count": null,
      "metadata": {}
    },
    {
      "cell_type": "code",
      "source": [
        "fig, ax = plt.subplots(round(len(features_to_analyse) / 3), 3, figsize = (18, 12))\n",
        "\n",
        "for i, ax in enumerate(fig.axes):\n",
        "    if i < len(features_to_analyse) - 1:\n",
        "        sns.boxplot(x=features_to_analyse[i], y=eda_target, data=df_categ[features_to_analyse], ax=ax)"
      ],
      "outputs": [],
      "execution_count": null,
      "metadata": {}
    },
    {
      "cell_type": "code",
      "source": [
        "fig, axes = plt.subplots(round(len(df_not_num.columns) / 3), 3, figsize=(12, 30))\n",
        "\n",
        "for i, ax in enumerate(fig.axes):\n",
        "    if i < len(df_not_num.columns):\n",
        "        ax.set_xticklabels(ax.xaxis.get_majorticklabels(), rotation=45)\n",
        "        sns.countplot(x=df_not_num.columns[i], alpha=0.7, data=df_not_num, ax=ax)\n",
        "\n",
        "fig.tight_layout()"
      ],
      "outputs": [],
      "execution_count": null,
      "metadata": {}
    },
    {
      "cell_type": "code",
      "source": [],
      "outputs": [],
      "execution_count": null,
      "metadata": {}
    },
    {
      "cell_type": "markdown",
      "source": [
        "## Done"
      ],
      "metadata": {}
    },
    {
      "cell_type": "code",
      "source": [
        "print(\"Done.\")\n"
      ],
      "outputs": [],
      "execution_count": null,
      "metadata": {}
    }
  ],
  "metadata": {
    "kernelspec": {
      "name": "python3-azureml",
      "language": "python",
      "display_name": "Python 3.6 - AzureML"
    },
    "language_info": {
      "name": "python",
      "version": "3.6.9",
      "mimetype": "text/x-python",
      "codemirror_mode": {
        "name": "ipython",
        "version": 3
      },
      "pygments_lexer": "ipython3",
      "nbconvert_exporter": "python",
      "file_extension": ".py"
    },
    "kernel_info": {
      "name": "python3-azureml"
    },
    "nteract": {
      "version": "nteract-front-end@1.0.0"
    }
  },
  "nbformat": 4,
  "nbformat_minor": 2
}