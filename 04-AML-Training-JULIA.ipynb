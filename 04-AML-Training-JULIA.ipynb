{
 "cells": [
  {
   "cell_type": "markdown",
   "metadata": {},
   "source": [
    "# AML Template - sample run on remote compute"
   ]
  },
  {
   "cell_type": "markdown",
   "metadata": {
    "nteract": {
     "transient": {
      "deleting": false
     }
    }
   },
   "source": [
    "## Init & Login"
   ]
  },
  {
   "cell_type": "code",
   "execution_count": 18,
   "metadata": {
    "gather": {
     "logged": 1613422108890
    }
   },
   "outputs": [
    {
     "name": "stdout",
     "output_type": "stream",
     "text": [
      "[INFO] SDK version: 1.20.0\n",
      "[SUCCESS] LOGGED IN:  @ mlops-demo @ mlops-rg @ westeurope @ 6ee947fa-0d77-4915-bf68-4a83a8bec2a4\n"
     ]
    }
   ],
   "source": [
    "## Check core SDK version number\n",
    "import azureml.core\n",
    "import mlflow\n",
    "import os\n",
    "\n",
    "from azureml.core import (Datastore, Dataset, Environment, Experiment, ScriptRunConfig,\n",
    "                          Workspace)\n",
    "from azureml.core.authentication import InteractiveLoginAuthentication\n",
    "from IPython.display import display\n",
    "\n",
    "print(\"[INFO] SDK version:\", azureml.core.VERSION)\n",
    "\n",
    "ws = Workspace.from_config()\n",
    "print(\"[SUCCESS] LOGGED IN: \",ws.name, ws.resource_group, ws.location, ws.subscription_id, sep=' @ ')\n",
    "\n",
    "\n",
    "aml_compute = \"julia-cluster\" # selecting an AML Compute cluster where the actual training happens\n",
    "aml_experiment = \"mlflow-azureml\" # name the Experiment for tracking purposes\n",
    "project_folder = \"code/train/julia\" # where is the code to run on disk\n",
    "experiment = Experiment(ws, aml_experiment) # init experiment by name"
   ]
  },
  {
   "cell_type": "markdown",
   "metadata": {},
   "source": [
    "## Training on AML Compute\n",
    "\n",
    "To train on AML Remote compute taget you need specify three config steps:\n",
    "\n",
    "1. define Compute Taget\n",
    "1. define Environment\n",
    "1. define Script Run\n",
    "\n",
    "And lastly run the experiment!"
   ]
  },
  {
   "cell_type": "code",
   "execution_count": 19,
   "metadata": {
    "gather": {
     "logged": 1613422219006
    }
   },
   "outputs": [
    {
     "name": "stdout",
     "output_type": "stream",
     "text": [
      "Found existing compute target: julia-cluster\n",
      "(cluster is idle) currentNodeCount: 0, vmPriority: Dedicated, vmSize: STANDARD_DS2_V2\n"
     ]
    }
   ],
   "source": [
    "from azureml.core.compute import ComputeTarget, AmlCompute\n",
    "from azureml.core.compute_target import ComputeTargetException\n",
    "\n",
    "compute_target = ComputeTarget(workspace=ws, name=aml_compute)\n",
    "# Use the 'status' property to get a detailed status for the current cluster. \n",
    "cts = compute_target.status.serialize()\n",
    "print(f'Found existing compute target: {aml_compute}\\n({\"cluster is running\" if (int(cts[\"currentNodeCount\"])>0) else \"cluster is idle\"}) currentNodeCount: {cts[\"currentNodeCount\"]}, vmPriority: {cts[\"vmPriority\"]}, vmSize: {cts[\"vmSize\"]}')"
   ]
  },
  {
   "cell_type": "code",
   "execution_count": null,
   "metadata": {},
   "outputs": [],
   "source": [
    "from azureml.core import Environment\n",
    "\n",
    "julia_env = Environment(\"julia\")\n",
    "julia_env.docker.enabled = True"
   ]
  },
  {
   "cell_type": "code",
   "execution_count": 33,
   "metadata": {},
   "outputs": [],
   "source": [
    "# FROM mcr.microsoft.com/azureml/base\n",
    "# FROM mcr.microsoft.com/azureml/base:intelmpi2018.3-ubuntu16.04\n",
    "\n",
    "# Specify Docker steps as a string. \n",
    "dockerfile = r\"\"\"\n",
    "FROM mcr.microsoft.com/azureml/base\n",
    "RUN pip install jill -U\n",
    "RUN jill install --confirm\n",
    "RUN echo \"Hello from Julia container!\"\n",
    "\"\"\"\n",
    "\n",
    "# Set the base image to None, because the image is defined by Dockerfile.\n",
    "julia_env.docker.base_image = None\n",
    "julia_env.docker.base_dockerfile = dockerfile\n",
    "\n",
    "# # Alternatively, load the string from a file.\n",
    "# julia_env.docker.base_image = None\n",
    "# julia_env.docker.base_dockerfile = \"./Dockerfile\""
   ]
  },
  {
   "cell_type": "code",
   "execution_count": 39,
   "metadata": {},
   "outputs": [],
   "source": [
    "from azureml.core import ScriptRunConfig\n",
    "\n",
    "# wtds = Dataset.get_by_name(ws, name=aml_dset)\n",
    "\n",
    "src = ScriptRunConfig(source_directory=project_folder, \n",
    "                      command='julia train.jl',\n",
    "#                       script='train.jl', \n",
    "#                       arguments =['--arg1', 1],\n",
    "                      compute_target=compute_target.name,\n",
    "                      environment=julia_env\n",
    "                     )\n",
    "\n",
    "# src.run_config.framework = 'python'\n",
    "# src.run_config.environment = julia_env\n",
    "# src.run_config.target = compute_target.name"
   ]
  },
  {
   "cell_type": "code",
   "execution_count": 40,
   "metadata": {},
   "outputs": [
    {
     "data": {
      "text/html": [
       "<table style=\"width:100%\"><tr><th>Experiment</th><th>Id</th><th>Type</th><th>Status</th><th>Details Page</th><th>Docs Page</th></tr><tr><td>mlflow-azureml</td><td>mlflow-azureml_1617206321_289c65c0</td><td>azureml.scriptrun</td><td>Queued</td><td><a href=\"https://ml.azure.com/experiments/mlflow-azureml/runs/mlflow-azureml_1617206321_289c65c0?wsid=/subscriptions/6ee947fa-0d77-4915-bf68-4a83a8bec2a4/resourcegroups/mlops-rg/workspaces/mlops-demo\" target=\"_blank\" rel=\"noopener\">Link to Azure Machine Learning studio</a></td><td><a href=\"https://docs.microsoft.com/en-us/python/api/azureml-core/azureml.core.script_run.ScriptRun?view=azure-ml-py\" target=\"_blank\" rel=\"noopener\">Link to Documentation</a></td></tr></table>"
      ],
      "text/plain": [
       "Run(Experiment: mlflow-azureml,\n",
       "Id: mlflow-azureml_1617206321_289c65c0,\n",
       "Type: azureml.scriptrun,\n",
       "Status: Queued)"
      ]
     },
     "execution_count": 40,
     "metadata": {},
     "output_type": "execute_result"
    }
   ],
   "source": [
    "run = experiment.submit(config=src)\n",
    "run"
   ]
  },
  {
   "cell_type": "code",
   "execution_count": null,
   "metadata": {},
   "outputs": [],
   "source": []
  }
 ],
 "metadata": {
  "kernel_info": {
   "name": "python3-azureml"
  },
  "kernelspec": {
   "display_name": "Python 3.6 - AzureML",
   "language": "python",
   "name": "python3-azureml"
  },
  "language_info": {
   "codemirror_mode": {
    "name": "ipython",
    "version": 3
   },
   "file_extension": ".py",
   "mimetype": "text/x-python",
   "name": "python",
   "nbconvert_exporter": "python",
   "pygments_lexer": "ipython3",
   "version": "3.6.9"
  },
  "nteract": {
   "version": "nteract-front-end@1.0.0"
  }
 },
 "nbformat": 4,
 "nbformat_minor": 2
}
