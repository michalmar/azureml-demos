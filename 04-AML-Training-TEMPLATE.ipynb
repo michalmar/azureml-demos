{
  "cells": [
    {
      "cell_type": "markdown",
      "source": [
        "# AML Template - sample run on remote compute"
      ],
      "metadata": {}
    },
    {
      "cell_type": "markdown",
      "source": [
        "## Init & Login"
      ],
      "metadata": {
        "nteract": {
          "transient": {
            "deleting": false
          }
        }
      }
    },
    {
      "cell_type": "code",
      "source": [
        "## Check core SDK version number\n",
        "import azureml.core\n",
        "import mlflow\n",
        "import os\n",
        "\n",
        "from azureml.core import (Datastore, Dataset, Environment, Experiment, ScriptRunConfig,\n",
        "                          Workspace)\n",
        "from azureml.core.authentication import InteractiveLoginAuthentication\n",
        "from IPython.display import display\n",
        "\n",
        "print(\"[INFO] SDK version:\", azureml.core.VERSION)\n",
        "\n",
        "ws = Workspace.from_config()\n",
        "print(\"[SUCCESS] LOGGED IN: \",ws.name, ws.resource_group, ws.location, ws.subscription_id, sep=' @ ')\n",
        "\n",
        "## set mlflow backend to AML\n",
        "mlflow.set_tracking_uri(ws.get_mlflow_tracking_uri())\n",
        "\n",
        "print(\"[INFO] MLFlow wired to AML:\", \"experiments.azureml.net\" in mlflow.get_tracking_uri())\n",
        "\n",
        "aml_compute = \"aml-cluster\" # selecting an AML Compute cluster where the actual training happens\n",
        "aml_ds = \"aml_data\" # selecting Datastore a linked Azure Storage account\n",
        "aml_dset = \"diabetes_multiple\" # select particular Dataset in Datastore\n",
        "aml_experiment = \"mlflow-azureml\" # name the Experiment for tracking purposes\n",
        "project_folder = \"code/train/diabetes\" # where is the code to run on disk\n",
        "mlflow.set_experiment(aml_experiment) # setup MLFlow\n",
        "experiment = Experiment(ws, aml_experiment) # init experiment by name"
      ],
      "outputs": [],
      "execution_count": null,
      "metadata": {
        "gather": {
          "logged": 1613422108890
        }
      }
    },
    {
      "cell_type": "markdown",
      "source": [
        "## Training on AML Compute\r\n",
        "\r\n",
        "To train on AML Remote compute taget you need specify three config steps:\r\n",
        "\r\n",
        "1. define Compute Taget\r\n",
        "1. define Environment\r\n",
        "1. define Script Run\r\n",
        "\r\n",
        "And lastly run the experiment!"
      ],
      "metadata": {}
    },
    {
      "cell_type": "code",
      "source": [
        "from azureml.core.compute import ComputeTarget, AmlCompute\n",
        "from azureml.core.compute_target import ComputeTargetException\n",
        "\n",
        "compute_target = ComputeTarget(workspace=ws, name=aml_compute)\n",
        "# Use the 'status' property to get a detailed status for the current cluster. \n",
        "cts = compute_target.status.serialize()\n",
        "print(f'Found existing compute target: {aml_compute}\\n({\"cluster is running\" if (int(cts[\"currentNodeCount\"])>0) else \"cluster is idle\"}) currentNodeCount: {cts[\"currentNodeCount\"]}, vmPriority: {cts[\"vmPriority\"]}, vmSize: {cts[\"vmSize\"]}')"
      ],
      "outputs": [],
      "execution_count": null,
      "metadata": {
        "gather": {
          "logged": 1613422219006
        }
      }
    },
    {
      "cell_type": "code",
      "source": [
        "from azureml.core import Environment\n",
        "from azureml.core.conda_dependencies import CondaDependencies\n",
        "\n",
        "conda_env = Environment('mlflow-azureml-diabetes')\n",
        "conda_env.python.conda_dependencies = CondaDependencies.create(pip_packages=['azureml-sdk',\n",
        "                                                                             'azureml-dataprep[pandas,fuse]',\n",
        "                                                                             'scikit-learn==0.22.2.post1',\n",
        "                                                                             'azureml-mlflow',\n",
        "                                                                             'lightgbm',\n",
        "                                                                            'joblib'])\n",
        "conda_env.python.conda_dependencies.save(os.path.join(project_folder,'env.yml'))\n",
        "conda_env.register(ws)\n"
      ],
      "outputs": [],
      "execution_count": null,
      "metadata": {
        "gather": {
          "logged": 1613423361094
        }
      }
    },
    {
      "cell_type": "code",
      "source": [
        "from azureml.core import ScriptRunConfig\n",
        "\n",
        "wtds = Dataset.get_by_name(ws, name=aml_dset)\n",
        "\n",
        "src = ScriptRunConfig(source_directory=project_folder, \n",
        "                      script='train.py', \n",
        "                      arguments =[wtds.as_named_input('data')])\n",
        "\n",
        "src.run_config.framework = 'python'\n",
        "src.run_config.environment = conda_env\n",
        "src.run_config.target = compute_target.name"
      ],
      "outputs": [],
      "execution_count": null,
      "metadata": {
        "gather": {
          "logged": 1613422238834
        }
      }
    },
    {
      "cell_type": "code",
      "source": [
        "run = experiment.submit(config=src)\r\n",
        "run"
      ],
      "outputs": [],
      "execution_count": null,
      "metadata": {
        "gather": {
          "logged": 1613422342350
        }
      }
    },
    {
      "cell_type": "code",
      "source": [
        "from azureml.widgets import RunDetails\n",
        "RunDetails(run).show()"
      ],
      "outputs": [],
      "execution_count": null,
      "metadata": {
        "gather": {
          "logged": 1613422623946
        }
      }
    }
  ],
  "metadata": {
    "kernel_info": {
      "name": "python3-azureml"
    },
    "kernelspec": {
      "name": "python3-azureml",
      "language": "python",
      "display_name": "Python 3.6 - AzureML"
    },
    "language_info": {
      "name": "python",
      "version": "3.6.9",
      "mimetype": "text/x-python",
      "codemirror_mode": {
        "name": "ipython",
        "version": 3
      },
      "pygments_lexer": "ipython3",
      "nbconvert_exporter": "python",
      "file_extension": ".py"
    },
    "nteract": {
      "version": "nteract-front-end@1.0.0"
    }
  },
  "nbformat": 4,
  "nbformat_minor": 2
}